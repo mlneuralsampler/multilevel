{
 "cells": [
  {
   "cell_type": "code",
   "execution_count": 1,
   "id": "a9ec5a5e-acd7-4f2c-a50f-cf2bf24f5c73",
   "metadata": {},
   "outputs": [],
   "source": [
    "import os\n",
    "import pickle\n",
    "import matplotlib.pyplot as plt\n",
    "from van_code.nn import NeuralVANMultilevel_block_wise\n",
    "from van_code.ising import ising_energy,analytical_solution,local_ising_energy\n",
    "from van_code.montecarlo import *\n",
    "from van_code.utils import *\n",
    "from van_code.obs import Obs\n"
   ]
  },
  {
   "cell_type": "code",
   "execution_count": 2,
   "id": "5c4569e9-4b9e-4e87-871e-93d83c0511da",
   "metadata": {},
   "outputs": [
    {
     "name": "stdout",
     "output_type": "stream",
     "text": [
      "You are using device=mps.\n"
     ]
    }
   ],
   "source": [
    "if torch.backends.mps.is_available():\n",
    "    device = torch.device(\"mps\")\n",
    "    default_dtype_torch=torch.float32\n",
    "elif torch.cuda.is_available():\n",
    "    device = 'cuda'\n",
    "else:\n",
    "    device = torch.device(\"cpu\")\n",
    "print(f'You are using device={device}.')"
   ]
  },
  {
   "cell_type": "markdown",
   "id": "8164be43-0322-4b8c-ae36-a9b0b0e20310",
   "metadata": {},
   "source": [
    "-------------\n",
    "-------------\n",
    "# Model and parameters\n",
    "Our multilevel architecture uses different blocks of Autoregressive neural networks which are based on the VAN architecture by [Wu et al. (2019)](https://journals.aps.org/prl/abstract/10.1103/PhysRevLett.122.080602)."
   ]
  },
  {
   "cell_type": "code",
   "execution_count": 3,
   "id": "a7f18c2f-e4e7-4a4d-81ab-153f60db5425",
   "metadata": {},
   "outputs": [],
   "source": [
    "# This cell defines important parameters for the simulation\n",
    "\n",
    "Lc=2 # defines the coarser lattice\n",
    "beta=0.44 # defines the beta value (inverse of the temperature)\n",
    "\n",
    "# VAN parameters\n",
    "net_depth = 3\n",
    "net_width= 16\n",
    "half_kernel_size =6\n",
    "\n",
    "# CNN VAN parameters\n",
    "# The i-th element of the list correspond to the parameters associated to the i-th block in the multilevel\n",
    "\n",
    "hidden_size=[[16]] * 10 # Hidden size of each CondVAN\n",
    "kernel_size=[5] *10  # Kernel of CondVAN\n",
    "\n",
    "# @ELIA what is the difference between VAN above, the CondVAN, and CNN VAN? We should make it clear!\n",
    "\n",
    "nlevels = 2 # defines the numbe rof levels in the multilevel. Every level doubles the lattice. Example: if the coarser is 2x2 after 3 levels we have 16x16\n",
    "hb_last = True # whether to use heatbath to sample unbiased configuration from the last ARNN\n",
    "\n",
    "pretrained = True  # wheter to initilize j block with j-1 block's parameters @ELIA Can you explain this better?\n"
   ]
  },
  {
   "cell_type": "code",
   "execution_count": 4,
   "id": "e6e338fe-3d49-412c-99be-d84c4f7d2cf6",
   "metadata": {},
   "outputs": [],
   "source": [
    "van_hyp={\n",
    "    'net_depth':net_depth,\n",
    "    'net_width': net_width,\n",
    "    'half_kernel_size':half_kernel_size,\n",
    "    'bias':False,'z2':False,\n",
    "    'res_block':True,\n",
    "    'x_hat_clip':False,\n",
    "    'final_conv':True,\n",
    "    'epsilon':1.e-8,\n",
    "    'device':device\n",
    "}\n",
    "\n",
    "block_net_hyp={\n",
    "    'hidden_size':hidden_size,\n",
    "    'kernel_size':kernel_size,\n",
    "    'epsilon':1e-7,\n",
    "    'level':0,\n",
    "    'device':device\n",
    "}"
   ]
  },
  {
   "cell_type": "code",
   "execution_count": 5,
   "id": "994f246c-3856-4c65-8e2d-106364f5bb4e",
   "metadata": {},
   "outputs": [
    {
     "name": "stdout",
     "output_type": "stream",
     "text": [
      "\n",
      "\n",
      "=======================================================================================================================================================\n",
      "\n",
      "You will start from coarser lattices of shape 2x2 and sample finer lattices of resolution 16x16 using 3 multilevel steps.\n",
      "\n",
      "=======================================================================================================================================================\n",
      "\n"
     ]
    }
   ],
   "source": [
    "# Building the model\n",
    "\n",
    "model = NeuralVANMultilevel_block_wise(\n",
    "    Lc,\n",
    "    van_hyp,\n",
    "    block_net_hyp,\n",
    "    nlevels,\n",
    "    hb_last,\n",
    "    ising_energy,\n",
    "    local_ising_energy,\n",
    "    beta,\n",
    "    device\n",
    ")\n",
    "Lf = model.Lf\n",
    "#print(model)\n",
    "\n",
    "print(f'\\n\\n=======================================================================================================================================================\\n')\n",
    "print(f'You will start from coarser lattices of shape {Lc}x{Lc} and sample finer lattices of resolution {model.Lf}x{model.Lf} using {nlevels} multilevel steps.')\n",
    "print(f'\\n=======================================================================================================================================================\\n')"
   ]
  },
  {
   "cell_type": "code",
   "execution_count": 6,
   "id": "6989f290-fcf4-42e6-8914-e7b658d58175",
   "metadata": {},
   "outputs": [],
   "source": [
    "# Define default parameters for optimizer and scheduler\n",
    "\n",
    "optimizer = torch.optim.Adam(model.parameters(), lr=0.0005)\n",
    "scheduler = torch.optim.lr_scheduler.ReduceLROnPlateau(optimizer, 'min', factor=0.92, patience=1000, min_lr=1e-07)\n",
    "\n",
    "# Define additional training parameters. Arbitrary values can be chosen\n",
    "# the values chosen below are optimized for the purpose of this demo.\n",
    "\n",
    "bs = [16] * (nlevels+1)\n",
    "nepochs = 2 * [500] * nlevels + [500]\n",
    "print_freq = 10\n",
    "lr = 2 * [0.001] + [0.001] * (nlevels-1)"
   ]
  },
  {
   "cell_type": "code",
   "execution_count": 7,
   "id": "6d9a949d-4642-4a59-a987-2282d0a12854",
   "metadata": {},
   "outputs": [],
   "source": [
    "# Choose main path to store model and logs\n",
    "main_path=''+'../data/'\n",
    "\n",
    "# Creates model identifier with corresponding params\n",
    "# '/Lf'+'_beta'+'_nblocks'+'_PCNNdepth'+'_width'+'_half_ker'+'_CCNNhs'+'_ks'\n",
    "\n",
    "model_id = f'{str(model.Lf)}_{str(beta)}_{str(nlevels)}_{str(net_depth)}_{str(net_width)}_{str(half_kernel_size)}_{str(hidden_size[0][0])}_{str(kernel_size[0])}'\n",
    "\n",
    "lc_path = main_path + 'training/' + model_id\n",
    "h_path = lc_path + '_history.log' # Path to Training history\n",
    "\n",
    "## Dict of paths to store different results\n",
    "\n",
    "res_paths = {\n",
    "    'weights': main_path+ 'model/'+ model_id +'.chckpnt', # models' weights\n",
    "    'sim' : main_path + 'results/' + model_id + '_measures.log',  # Simulations logging\n",
    "    'sim_md' : main_path + 'results/' + model_id + '_measures_modedrop.log',  # Simulations mode dropping\n",
    "    'cluster' : main_path + 'results/' + model_id + '_measuresCluster.log',  # Simulations\n",
    "    'dict_hist' : lc_path + '_historyDict.pkl',  # dictionary learning curve\n",
    "    'mh' : main_path+'results/'+ model_id +'_measuresIMH.log' # neural MCMC sampling results\n",
    "}\n"
   ]
  },
  {
   "cell_type": "markdown",
   "id": "627aaeee-8aa4-41ee-a7ab-950d59d4edca",
   "metadata": {},
   "source": [
    "-------------\n",
    "-------------\n",
    "# Training"
   ]
  },
  {
   "cell_type": "code",
   "execution_count": 8,
   "id": "a2de395c-9d62-4310-a4e6-3b55f0028563",
   "metadata": {},
   "outputs": [
    {
     "name": "stdout",
     "output_type": "stream",
     "text": [
      "\n",
      "============================================================================================================================\n",
      "\n",
      "Nothing to load. Training of new model... \n",
      "\n",
      "============================================================================================================================\n",
      "\n",
      "Training VAN layers...\n"
     ]
    },
    {
     "name": "stderr",
     "output_type": "stream",
     "text": [
      "/Users/kimnicoli/Projects/multilevelRG/venv/lib/python3.9/site-packages/torch/amp/grad_scaler.py:132: UserWarning: torch.cuda.amp.GradScaler is enabled, but CUDA is not available.  Disabling.\n",
      "  warnings.warn(\n"
     ]
    },
    {
     "name": "stdout",
     "output_type": "stream",
     "text": [
      "10 -0.0229491 -2.5482035 2.376858 0.12304192 -3.7982407 -2.7682035\n",
      "20 -0.015963137 -2.7724369 1.6171459 0.12522653 -3.850008 -2.7724369\n",
      "30 -0.01877281 -2.9840608 0.73225653 0.13679679 -3.8168726 -2.7640607\n",
      "40 -0.049151957 -2.9683857 0.6627169 0.15294091 -3.7019234 -2.7483857\n",
      "50 -0.38977233 -3.3656783 2.7595196 0.32160327 -4.5578513 -2.7056782\n",
      "60 -0.62615234 -3.351481 2.0331695 0.37008435 -4.2360463 -2.691481\n",
      "70 -0.6921334 -4.169017 0.99128306 0.6999538 -4.5342607 -2.1890168\n",
      "80 -0.4480962 -4.263093 0.4238952 0.87139076 -4.4057484 -1.8430932\n",
      "90 0.083502404 -4.44978 0.008630501 0.9890719 -4.4542694 -1.1497802\n",
      "100 -0.107916586 -4.3030653 0.025757305 0.9861484 -4.3131485 -1.0030649\n",
      "110 -0.053690936 -4.2897816 0.0050762957 0.9962781 -4.291977 -0.9897815\n",
      "120 -0.07405944 -4.265761 0.0051931995 0.9959133 -4.26806 -1.1857607\n",
      "130 1.315531e-05 -4.2818866 1.40810325e-05 0.99998665 -4.281893 -0.7618865\n",
      "140 4.8792936e-06 -4.277116 5.180469e-06 0.99999523 -4.277118 -0.7571157\n",
      "150 -0.041862957 -4.282188 0.0029708568 0.99769 -4.283498 -0.98218805\n",
      "160 -0.07187645 -4.3083515 0.00977962 0.9934687 -4.3124547 -1.0083512\n",
      "170 -0.21690759 -4.2542925 0.048362978 0.9721678 -4.2737317 -1.3942922\n",
      "180 0.03477328 -4.348195 0.0016364761 0.99823725 -4.348999 -1.0481954\n",
      "190 0.041196313 -4.3450766 0.033373084 0.96439445 -4.3612785 -1.2650766\n",
      "200 -0.24167833 -4.2650137 0.07802116 0.9620465 -4.294856 -1.1850134\n",
      "210 0.015389577 -4.385481 0.057689276 0.96117896 -4.4092855 -1.5254804\n",
      "220 0.054829847 -4.4229813 0.0038691298 0.99551255 -4.4249315 -1.122981\n",
      "230 0.016616492 -4.394974 0.012639627 0.98743486 -4.400993 -1.3149743\n",
      "240 -0.072123006 -4.3441253 0.03436559 0.9732049 -4.359253 -1.4841254\n",
      "250 -0.068230554 -4.352413 0.008540133 0.9942156 -4.3560133 -1.052413\n",
      "260 0.09658255 -4.411108 0.010947351 0.9853709 -4.416916 -1.1111085\n",
      "270 -0.073063344 -4.3697495 0.012040758 0.9923239 -4.3747277 -1.2897499\n",
      "280 -0.1131226 -4.3504534 0.016220916 0.98956066 -4.3571796 -1.2704533\n",
      "290 -0.06814846 -4.3483925 0.009817509 0.9934962 -4.352502 -1.2683928\n",
      "300 0.050633628 -4.391553 0.013747822 0.9834473 -4.3985643 -1.3115532\n",
      "310 -0.049154624 -4.38612 0.004234839 0.996815 -4.387966 -1.0861201\n",
      "320 0.02045837 -4.378669 0.034615606 0.9531317 -4.397154 -1.7386692\n",
      "330 -0.049719475 -4.362514 0.0022492479 0.9980821 -4.3635364 -1.2825141\n",
      "340 -0.100578666 -4.3559446 0.009763897 0.99271107 -4.360198 -1.275945\n",
      "350 -0.19810316 -4.3162584 0.023043603 0.9824836 -4.3263974 -1.6762581\n",
      "360 -0.019457374 -4.3779516 0.00068525015 0.9994022 -4.3782654 -1.0779519\n",
      "370 -0.08058365 -4.33382 0.005016837 0.9958003 -4.336088 -1.6938199\n",
      "380 0.4461374 -4.517736 0.09030023 0.8982486 -4.564543 -2.0977361\n",
      "390 -0.05026225 -4.3459535 0.03169637 0.9644294 -4.361762 -1.9259536\n",
      "400 -0.044158027 -4.379912 0.015458548 0.98676556 -4.3869333 -1.5199118\n",
      "410 -0.11651458 -4.3550687 0.009676388 0.9923892 -4.359357 -1.4950688\n",
      "420 -0.046388414 -4.367481 0.0021327243 0.9981887 -4.368449 -1.2874813\n",
      "430 -0.12014413 -4.336449 0.013661325 0.99039716 -4.3422785 -1.4764493\n",
      "440 0.20889486 -4.4429703 0.02887308 0.9576353 -4.4588976 -1.5829704\n",
      "450 0.10977253 -4.402495 0.035682518 0.9440824 -4.422671 -1.5424948\n",
      "460 0.0822309 -4.3901024 0.02454258 0.96670014 -4.4031878 -1.3101026\n",
      "470 -0.012413608 -4.375476 0.00039700954 0.99963766 -4.3756604 -1.0754762\n",
      "480 7.402222e-05 -4.392536 7.873461e-05 0.9999256 -4.3925734 -0.87253654\n",
      "490 0.00010191952 -4.3924885 0.000108549066 0.9998989 -4.3925395 -0.8724886\n",
      "500 0.020291988 -4.378042 0.0053032325 0.9944669 -4.380616 -1.2980418\n",
      "Time taken for this level now 9.360645055770874\n",
      "Unfreezing and training up to level 1\n"
     ]
    },
    {
     "name": "stderr",
     "output_type": "stream",
     "text": [
      "/Users/kimnicoli/Projects/multilevelRG/venv/lib/python3.9/site-packages/torch/_compile.py:31: UserWarning: optimizer contains a parameter group with duplicate parameters; in future, this will cause an error; see github.com/pytorch/pytorch/issues/40967 for more information\n",
      "  return disable_fn(*args, **kwargs)\n",
      "/Users/kimnicoli/Projects/multilevelRG/venv/lib/python3.9/site-packages/torch/amp/autocast_mode.py:265: UserWarning: User provided device_type of 'cuda', but CUDA is not available. Disabling\n",
      "  warnings.warn(\n"
     ]
    },
    {
     "name": "stdout",
     "output_type": "stream",
     "text": [
      "10 -2.9730525 -12.882533 8.800662 0.084409565 -17.05317 -9.362533\n",
      "20 -4.9976163 -13.940269 3.865408 0.30239648 -15.40251 -8.440269\n",
      "30 -1.2499275 -15.377146 0.37227473 0.85980254 -15.509138 -3.717146\n",
      "40 -0.35657665 -15.361813 0.03601429 0.9750871 -15.377081 -3.5918128\n",
      "50 -0.77516115 -15.276748 0.10442063 0.9442976 -15.317583 -4.276749\n",
      "60 0.7450986 -15.454123 0.1170413 0.74381614 -15.535208 -2.5841222\n",
      "70 0.20547679 -15.482303 0.08816128 0.8244671 -15.539112 -3.2723029\n",
      "80 -0.078419484 -15.463309 0.14387128 0.8614605 -15.531452 -4.0233088\n",
      "90 0.35053766 -15.475313 0.06707022 0.92319036 -15.509607 -4.475314\n",
      "100 -0.48531404 -15.474856 0.14870094 0.86090857 -15.546154 -4.8048553\n",
      "110 0.21144693 -15.521956 0.06412651 0.95188534 -15.549843 -4.5219564\n",
      "120 -1.2116967 -15.40955 0.19142452 0.95583695 -15.466385 -2.8695498\n",
      "130 -0.08923599 -15.454542 0.1102099 0.8937464 -15.5073185 -3.904543\n",
      "140 -0.48551553 -15.376119 0.04487321 0.9713375 -15.394718 -3.606119\n",
      "150 0.15584525 -15.503258 0.02024541 0.97328466 -15.513964 -2.7432578\n",
      "160 0.1891647 -15.4735775 0.11249363 0.9166108 -15.522253 -6.453578\n",
      "170 -0.17435086 -15.43906 0.04581969 0.96256965 -15.45974 -6.08906\n",
      "180 -0.004370369 -15.474438 0.015427176 0.98328227 -15.482033 -4.694439\n",
      "190 -0.46384746 -15.390476 0.071169645 0.9689209 -15.416481 -2.4104762\n",
      "200 -0.7283862 -15.339648 0.083146624 0.945469 -15.374632 -4.4496484\n",
      "210 0.099561386 -15.461448 0.018011546 0.97723943 -15.470821 -3.6914482\n",
      "220 0.0030114055 -15.502333 0.05535381 0.9258708 -15.531778 -4.172333\n",
      "230 -0.0446198 -15.518513 0.026777703 0.9706781 -15.531815 -3.8585136\n",
      "240 -0.051610366 -15.547724 0.025326125 0.97902673 -15.559149 -3.6677246\n",
      "250 0.24521634 -15.547734 0.066121764 0.9156357 -15.5828495 -4.4377346\n",
      "260 -0.23453401 -15.463939 0.04248088 0.96704507 -15.4824295 -4.4639387\n",
      "270 0.15186577 -15.50849 0.046486303 0.9332072 -15.533997 -3.1884894\n",
      "280 -0.31498042 -15.389828 0.039598387 0.9664586 -15.407816 -4.609828\n",
      "290 -0.051023304 -15.452223 0.06245239 0.95398647 -15.47925 -5.882222\n",
      "300 0.6101292 -15.488649 0.062312186 0.9192615 -15.522081 -3.828649\n",
      "310 -0.102633655 -15.488752 0.10578894 0.89912194 -15.539978 -6.138753\n",
      "320 -0.14063463 -15.486881 0.011250787 0.9904198 -15.491991 -4.266881\n",
      "330 0.031533472 -15.517868 0.004066364 0.9959323 -15.519815 -2.537868\n",
      "340 -0.29105267 -15.450436 0.06103667 0.9429153 -15.479221 -5.1104355\n",
      "350 -0.047742575 -15.513085 0.0861589 0.88886386 -15.559538 -4.953085\n",
      "360 -0.18798521 -15.3992405 0.0732818 0.93804336 -15.432352 -4.5092406\n",
      "370 0.09795524 -15.515585 0.009998189 0.9889587 -15.520552 -3.9655848\n",
      "380 -0.3880032 -15.396753 0.04158095 0.9747226 -15.413727 -4.286753\n",
      "390 -0.39586657 -15.428949 0.026051074 0.9758388 -15.441132 -4.2089496\n",
      "400 0.2093235 -15.551527 0.03431913 0.9637674 -15.568474 -4.3315277\n",
      "410 -0.9460965 -15.351901 0.07928248 0.95615053 -15.383404 -4.2419014\n",
      "420 -0.18253052 -15.42717 0.07477219 0.92867225 -15.462807 -5.637169\n",
      "430 -0.16876185 -15.428819 0.01995198 0.9806414 -15.438269 -3.438819\n",
      "440 0.2006937 -15.501061 0.019403256 0.9825136 -15.510019 -4.391062\n",
      "450 -0.23777679 -15.432541 0.017279305 0.9885363 -15.439772 -3.442541\n",
      "460 -0.3627087 -15.522251 0.06780259 0.925613 -15.556147 -3.8622506\n",
      "470 -0.73837733 -15.407061 0.09604619 0.9451661 -15.445564 -4.1870604\n",
      "480 0.047451302 -15.484669 0.04549126 0.94836605 -15.507648 -4.374669\n",
      "490 -0.13440587 -15.54055 0.0988161 0.8871261 -15.589687 -3.9905512\n",
      "500 0.7501695 -15.548257 0.120917104 0.8379875 -15.615303 -4.548257\n",
      "Time taken for this level now 31.57036018371582\n",
      "Unfreezing and training up to level 2\n",
      "10 3.256816 -59.597313 0.55876863 0.5331431 -59.90621 -12.187314\n",
      "20 -11.09506 -58.297955 8.209638 0.5903563 -59.146164 -13.637955\n",
      "30 0.6763725 -59.03583 0.7841248 0.3630509 -59.509293 -9.865832\n",
      "40 0.39427733 -59.033302 0.45079726 0.47497302 -59.310127 -13.163303\n",
      "50 -3.6835878 -59.136097 1.0303285 0.6453198 -59.46805 -14.2561\n",
      "60 0.45173752 -59.490467 0.35504678 0.6462658 -59.677475 -10.760466\n",
      "70 1.8398995 -59.74185 0.51514536 0.6133023 -59.991264 -14.091854\n",
      "80 -4.393445 -59.57147 0.7472229 0.62096745 -59.854958 -15.131469\n",
      "90 -1.3717644 -59.418262 0.6275707 0.6176458 -59.69023 -18.718266\n",
      "100 -3.1965337 -59.472538 0.7599345 0.72745925 -59.7274 -14.372538\n",
      "110 -1.6661823 -59.685463 0.8434055 0.59023017 -60.012093 -16.895462\n",
      "120 -1.0845742 -59.992798 0.5265073 0.71215993 -60.211296 -15.002798\n",
      "130 -2.7670577 -60.06385 0.69770974 0.578205 -60.361465 -16.393848\n",
      "140 -2.9515953 -59.891907 1.2834314 0.3266357 -60.485855 -22.711906\n",
      "150 -1.105489 -60.001167 0.62373215 0.6322494 -60.280212 -20.401165\n",
      "160 -4.939314 -59.585617 0.5454371 0.8111433 -59.77443 -18.00562\n",
      "170 -2.2965865 -59.614807 0.428335 0.7592364 -59.78012 -18.254807\n",
      "180 -1.0342944 -59.785664 0.56470555 0.6782373 -60.028275 -19.965664\n",
      "190 -4.273444 -59.926308 0.6755799 0.66276866 -60.20452 -20.546307\n",
      "200 -3.2147665 -59.706207 0.32590106 0.7255913 -59.86087 -16.036207\n",
      "210 1.1249539 -59.90819 0.23956384 0.79019797 -60.02471 -14.918191\n",
      "220 -1.7958236 -59.93872 0.33775333 0.7748196 -60.088387 -17.14872\n",
      "230 -3.219264 -59.871056 0.51705706 0.7643451 -60.064003 -15.871054\n",
      "240 -0.42522186 -59.87593 0.41300282 0.6893702 -60.06781 -16.31593\n",
      "250 -0.46619797 -59.86566 0.22186911 0.6805647 -59.99723 -18.835663\n",
      "260 0.53891945 -59.925453 0.3036243 0.5644491 -60.115776 -14.275453\n",
      "270 1.3315227 -59.943542 0.2059387 0.6319311 -60.08087 -15.063543\n",
      "280 -1.0484059 -59.701363 0.1339387 0.9265173 -59.754105 -14.931364\n",
      "290 -1.9494424 -59.790207 0.23220573 0.8140385 -59.899338 -20.740206\n",
      "300 3.1530771 -59.897583 0.2795093 0.6325582 -60.066055 -14.137585\n",
      "310 -1.287854 -60.10331 0.16562122 0.82888526 -60.184784 -15.443312\n",
      "320 0.34676027 -59.88965 0.26795852 0.8129152 -60.00306 -16.659649\n",
      "330 0.7654916 -59.953438 0.08956902 0.8891487 -60.000618 -14.96344\n",
      "340 -1.7351747 -59.736217 0.1655956 0.80879503 -59.82231 -18.706219\n",
      "350 -1.1930807 -60.024067 0.2244524 0.80738324 -60.130165 -17.674068\n",
      "360 0.22527921 -59.976048 0.12952127 0.8592583 -60.042755 -12.786047\n",
      "370 -0.4205675 -59.90781 0.15532939 0.87243015 -59.978806 -14.807812\n",
      "380 -0.87504864 -59.84575 0.27881536 0.82991034 -59.96003 -22.11575\n",
      "390 0.38202775 -60.026207 0.10726936 0.90555876 -60.07663 -17.566204\n",
      "400 1.0517194 -60.16628 0.12865676 0.88361025 -60.22811 -16.166279\n",
      "410 1.6109612 -60.166363 0.19002388 0.826555 -60.259933 -18.696365\n",
      "420 0.11453092 -60.02675 0.0801548 0.908479 -60.067818 -15.036746\n",
      "430 -1.3984632 -60.005882 0.20616889 0.835807 -60.100983 -21.06588\n",
      "440 -0.25446916 -59.945282 0.103483304 0.90505457 -59.994637 -16.495285\n",
      "450 -2.4394045 -59.975655 0.36148173 0.7477564 -60.13527 -22.025654\n",
      "460 0.1444099 -60.03503 0.1872407 0.8253892 -60.126778 -20.215029\n",
      "470 -1.7023268 -59.883526 0.24410371 0.7899448 -60.00004 -21.823524\n",
      "480 -2.3493826 -59.984303 0.262676 0.86103016 -60.088783 -18.404305\n",
      "490 -1.206562 -59.785614 0.18669146 0.8376775 -59.873222 -17.545614\n",
      "500 -3.3166394 -59.723522 0.15083371 0.9004537 -59.78724 -19.463522\n",
      "Time taken for this level now 100.80664300918579\n",
      "Unfreezing and training up to level 3\n",
      "10 10.088288 -238.06177 1.0284258 0.47237828 -238.57063 -71.851776\n",
      "20 -7.1786737 -237.8284 0.9045714 0.5014954 -238.25008 -73.0484\n",
      "30 -2.8006444 -237.56874 2.0128827 0.4256786 -238.34541 -73.77875\n",
      "40 -4.6528683 -237.70657 0.7599687 0.59381646 -238.0153 -77.76658\n",
      "50 10.470377 -237.95702 1.0808697 0.2472451 -238.59924 -71.08702\n",
      "60 -6.726845 -237.98778 0.8378416 0.5072521 -238.3527 -72.76778\n",
      "70 2.796534 -238.08185 0.61415535 0.58885384 -238.3815 -65.82185\n",
      "80 -7.747508 -238.0899 0.69319564 0.5513231 -238.4192 -81.449905\n",
      "90 7.026476 -238.11954 0.8964681 0.47185957 -238.56027 -77.73954\n",
      "100 -0.12225628 -238.1481 0.39843687 0.7242584 -238.33154 -65.77811\n",
      "110 0.55816936 -237.90141 0.23539439 0.85871434 -237.99985 -67.40142\n",
      "120 2.648716 -238.14725 0.60883814 0.60663825 -238.42229 -78.427246\n",
      "130 -0.5773144 -238.14117 0.27173495 0.859396 -238.2471 -77.10118\n",
      "140 -2.2115507 -238.30911 0.992555 0.5971421 -238.70062 -84.52911\n",
      "150 4.7850976 -238.33224 0.33797795 0.76128966 -238.48232 -68.38225\n",
      "160 2.745989 -237.89293 0.52126575 0.5986931 -238.14833 -78.06293\n",
      "170 -4.4597626 -237.75117 0.8365099 0.3971153 -238.20396 -74.29118\n",
      "180 -4.349105 -238.18059 0.36529085 0.80378777 -238.32547 -69.4406\n",
      "190 -10.567161 -238.03693 0.8963996 0.682499 -238.37126 -82.05693\n",
      "200 -2.1218233 -237.96584 0.22891745 0.8711996 -238.05893 -70.54584\n",
      "210 -2.9979591 -238.3958 0.39056638 0.762941 -238.5656 -71.1958\n",
      "220 -3.4939232 -238.15991 0.18286115 0.8258175 -238.2485 -77.77991\n",
      "230 8.860631 -238.53287 0.64712054 0.36510363 -238.92773 -67.04286\n",
      "240 -5.6339393 -238.14432 0.475054 0.56139123 -238.40259 -78.20433\n",
      "250 -3.120102 -237.7869 0.4305883 0.7267825 -237.97543 -71.576904\n",
      "260 -7.374172 -237.97084 0.6117946 0.71279055 -238.21582 -81.55084\n",
      "270 -1.3852587 -238.00935 0.3419541 0.79953086 -238.15154 -68.05934\n",
      "280 6.031864 -237.89682 0.17677379 0.83613867 -237.98323 -70.91681\n",
      "290 -2.524805 -238.28763 0.4868492 0.6705658 -238.50836 -74.05763\n",
      "300 -1.6133223 -238.2309 0.4743267 0.6171324 -238.46191 -76.3109\n",
      "310 2.6417155 -238.28749 0.45719036 0.6571947 -238.51047 -79.00749\n",
      "320 2.0688708 -238.20709 0.077245615 0.92812335 -238.24393 -62.75709\n",
      "330 1.4583404 -238.22137 0.2800753 0.69812983 -238.37193 -71.02137\n",
      "340 1.4107037 -238.05135 1.1195441 0.34861827 -238.70413 -69.75134\n",
      "350 2.0432496 -238.3391 0.32028195 0.6303614 -238.5204 -74.43909\n",
      "360 -8.736474 -237.85474 0.4623019 0.7146637 -238.05272 -71.09474\n",
      "370 -6.959962 -237.7113 0.6126715 0.5845567 -237.99837 -80.0813\n",
      "380 0.022214413 -238.08226 0.75025666 0.59110445 -238.40723 -79.13226\n",
      "390 -3.9858155 -238.35744 0.3387957 0.7980439 -238.49617 -69.50743\n",
      "400 -6.4363246 -238.14503 0.9316484 0.5107783 -238.5729 -76.99504\n",
      "410 -0.31422353 -237.9216 0.33357897 0.7268491 -238.07716 -83.5916\n",
      "420 -2.6297035 -238.14568 0.46070302 0.760013 -238.32433 -78.425674\n",
      "430 -5.1465893 -237.97516 0.38109386 0.7022324 -238.157 -77.92516\n",
      "440 1.8668454 -238.03961 0.6679797 0.527507 -238.37852 -64.129616\n",
      "450 -12.114132 -238.12567 1.1653204 0.42563963 -238.65605 -93.25567\n",
      "460 1.9755329 -238.22517 0.2829725 0.83820814 -238.34193 -71.79517\n",
      "470 2.223198 -238.0682 0.67593706 0.43638545 -238.44716 -68.5582\n",
      "480 -4.953652 -238.2727 0.37682578 0.7634534 -238.43884 -73.49271\n",
      "490 -2.5344262 -238.28198 0.34251526 0.7459501 -238.44083 -83.951996\n",
      "500 4.49362 -238.3367 0.24689983 0.8522918 -238.44083 -74.4367\n",
      "Total time taken : 335.13623690605164\n",
      "\n",
      "============================================================================================================================\n",
      "\n",
      "Training successful!\n",
      "\n",
      "============================================================================================================================\n",
      "\n"
     ]
    }
   ],
   "source": [
    "# Load model if checkpoint exists, otherwise train a new model.\n",
    "\n",
    "if os.path.exists(res_paths['weights']):\n",
    "    print(f'\\n============================================================================================================================\\n')\n",
    "    print(f\"Loading model {res_paths['weights']}.\")\n",
    "    print(f'\\n============================================================================================================================\\n')\n",
    "    load(model, optimizer, res_paths['weights'])\n",
    "    with open(res_paths['dict_hist'], 'rb') as handle:\n",
    "        history= pickle.load(handle)\n",
    "    print(f'\\n============================================================================================================================\\n')\n",
    "    print(f\"Loading successful!\")\n",
    "    print(f'\\n============================================================================================================================\\n')\n",
    "\n",
    "else:\n",
    "    print(f'\\n============================================================================================================================\\n')\n",
    "    print(f\"Nothing to load. Training of new model... \")\n",
    "    print(f'\\n============================================================================================================================\\n')\n",
    "\n",
    "    history=model.train(nepochs, bs, lr, print_freq, h_path, pretrained, on_file=True)\n",
    "    save(model, optimizer, res_paths['weights'])\n",
    "    write(history, lc_path)\n",
    "\n",
    "    print(f'\\n============================================================================================================================\\n')\n",
    "    print(f\"Training successful!\")\n",
    "    print(f'\\n============================================================================================================================\\n')\n"
   ]
  },
  {
   "cell_type": "code",
   "execution_count": 9,
   "id": "4a949452-ab47-4670-9245-c646cc7b3693",
   "metadata": {},
   "outputs": [
    {
     "data": {
      "text/plain": "<Figure size 640x480 with 1 Axes>",
      "image/png": "[encoded data removed]"
     },
     "metadata": {},
     "output_type": "display_data"
    }
   ],
   "source": [
    "bins = 10 # binning to plot training history.\n",
    "\n",
    "if history:\n",
    "    plt.plot(np.asarray(history['ESS']).reshape(int((nepochs[0]*nlevels+nepochs[-1])/bins),bins).mean(-1))\n",
    "    plt.ylabel('ESS')"
   ]
  },
  {
   "cell_type": "markdown",
   "id": "5c51a028-9e89-4544-a528-2aa80f57b118",
   "metadata": {},
   "source": [
    "-------------\n",
    "-------------\n",
    "# Analysis: Reverse Metrics\n",
    "This sections includes metrics which require samples from the model, e.g., $s\\sim q_\\theta$ where $q_\\theta$ is the autoregressive neural network.\n",
    "The resulting script `res_paths['sim']` will store:\n",
    "\n",
    "`Loss, FreeEn, ESS_rev, InternalEn, Absmag`"
   ]
  },
  {
   "cell_type": "code",
   "execution_count": 10,
   "id": "ba045204-fb9d-4fcd-bfd3-bdadcd951ccd",
   "metadata": {},
   "outputs": [],
   "source": [
    "model.eval()\n",
    "w,E,m,t = model.sample_n_OBS(100,1000)"
   ]
  },
  {
   "cell_type": "code",
   "execution_count": 11,
   "id": "d12ab2f7-55e3-4532-b794-7aac9e3ff4d4",
   "metadata": {},
   "outputs": [],
   "source": [
    "gamma_analysis(w, res_paths['sim']) # Stores data: Loss, FreeEn, ESS_rev\n",
    "_=gamma_analysis_OBS(E, w, res_paths['sim']) # Stores data: Internal Energy\n",
    "_=gamma_analysis_OBS(np.abs(m), w, res_paths['sim']) # Stores data: Absolute magnetization"
   ]
  },
  {
   "cell_type": "markdown",
   "id": "0975e73c-b88e-43c4-bc8c-8f03619da4ba",
   "metadata": {},
   "source": [
    "-------------\n",
    "-------------\n",
    "# Analysis: Forward metrics\n",
    "> Note to user:\n",
    "> - This only works for small lattices. As this is just a demo, configurations for larger lattices (or different $\\beta$) are not provided and users have to generate reference configurations by themselves. Once configurations are available the pipeline below can be used.\n",
    "> - Ensure to unzip the configurations before running the code below.\n",
    "\n",
    "\n",
    "This sections includes metrics which require samples from the true distribution, e.g., $s\\sim p$ where $p$ is the target Boltzmann distribution.\n",
    "Such samples can be obtained with standard methods such as the Cluster method. For the sake of this demo, configs sampled with cluster method are stored in `data/config/Ising_data_nx16_beta0.4400000000_data1000000.dat`.\n",
    "\n",
    "The script `res_paths['sim_md']` will store:\n",
    "\n",
    "`Loss_rev, FreeEn_rev, ESS_rev, Loss_fwd, FreeEn_fwd, ESS_fwd, mode_dropping_est,  InternalEn, Absmag`\n",
    "\n",
    "The script `res_paths['cluster']` will store analysis performed on samples from Cluster method, i.e., $s\\sim p$:\n",
    "\n",
    "`Loss, FreeEn, ESS_rev, InternalEn, Absmag`\n"
   ]
  },
  {
   "cell_type": "code",
   "execution_count": 12,
   "id": "005731df-a09d-4a20-b0f5-58b27a7aa453",
   "metadata": {},
   "outputs": [],
   "source": [
    "ndat = 1000000\n",
    "path_ising = main_path + f'config/Ising_data_nx{model.Lf}_beta0.4400000000_data{ndat}.dat'"
   ]
  },
  {
   "cell_type": "code",
   "execution_count": null,
   "id": "e0e67ca9-7603-422e-ad35-9c313102d8a4",
   "metadata": {
    "pycharm": {
     "is_executing": true
    }
   },
   "outputs": [],
   "source": [
    "# Loads data for 16x16\n",
    "# N.B. This might take some time.\n",
    "data = np.genfromtxt(path_ising).reshape(-1, Lf, Lf)"
   ]
  },
  {
   "cell_type": "code",
   "execution_count": null,
   "id": "bd610b06-1d9b-470c-9d5e-f4af3ad676c4",
   "metadata": {
    "pycharm": {
     "is_executing": true
    }
   },
   "outputs": [],
   "source": [
    "cluster_analysis(data, ising_energy, beta, res_paths['cluster']) # U, tau |m|, tau |m|"
   ]
  },
  {
   "cell_type": "code",
   "execution_count": null,
   "id": "eb480693-5a2a-4188-8c17-7a6700b41fc6",
   "metadata": {
    "pycharm": {
     "is_executing": true
    }
   },
   "outputs": [],
   "source": [
    "wf = model.sample_from_MCMC(data, 1000)"
   ]
  },
  {
   "cell_type": "code",
   "execution_count": null,
   "id": "e62b5abf-1f37-4ddd-bc78-320de50c518e",
   "metadata": {
    "pycharm": {
     "is_executing": true
    }
   },
   "outputs": [],
   "source": [
    "gamma_analysis_modedrop(w, wf, res_paths['sim_md']) # Stores data: Loss, betaF, ESS, Floss, FbetaF, FESS, modedrop, U, absmag"
   ]
  },
  {
   "cell_type": "markdown",
   "id": "031f75ad-397a-4db0-b08c-ff0108a0445d",
   "metadata": {},
   "source": [
    "-------------\n",
    "-------------\n",
    "# Independent Metropolis-Hastings\n",
    "\n",
    "The cells below run Neural MCMC using a Metropolis Hastings accept-reject steps to unbias the samples drawn from the model as proposed in [Nicoli et al. Phys. Rev. E (2020)](https://link.aps.org/accepted/10.1103/PhysRevE.101.023304). A cluster analysis is performed on the accepted samples and results are saved in `res_paths['mh']`."
   ]
  },
  {
   "cell_type": "code",
   "execution_count": null,
   "id": "132d59a0-c66e-47dc-9faf-bb226aee5130",
   "metadata": {
    "pycharm": {
     "is_executing": true
    }
   },
   "outputs": [],
   "source": [
    "model.eval()"
   ]
  },
  {
   "cell_type": "code",
   "execution_count": null,
   "id": "2fe86663-898e-485b-9079-acb71707f73c",
   "metadata": {
    "pycharm": {
     "is_executing": true
    }
   },
   "outputs": [],
   "source": [
    "ensemble=make_mcmc_ensemble(model,100, 1000,model.device)"
   ]
  },
  {
   "cell_type": "code",
   "execution_count": null,
   "id": "0c75035f-d681-4f52-aabd-0ad27b6e277d",
   "metadata": {
    "pycharm": {
     "is_executing": true
    }
   },
   "outputs": [],
   "source": [
    "np.asarray(ensemble['accepted']).mean()"
   ]
  },
  {
   "cell_type": "code",
   "execution_count": null,
   "id": "73983d3d-13ee-42fc-9530-a050567953d3",
   "metadata": {
    "pycharm": {
     "is_executing": true
    }
   },
   "outputs": [],
   "source": [
    "cluster_analysis(np.asarray(ensemble['x']).reshape((-1, Lf, Lf) ), model.energy, model.beta, res_paths['mh']) #U, tau |m|, tau |m|"
   ]
  }
 ],
 "metadata": {
  "kernelspec": {
   "name": "multilevel",
   "language": "python",
   "display_name": "multilevel"
  },
  "language_info": {
   "codemirror_mode": {
    "name": "ipython",
    "version": 3
   },
   "file_extension": ".py",
   "mimetype": "text/x-python",
   "name": "python",
   "nbconvert_exporter": "python",
   "pygments_lexer": "ipython3",
   "version": "3.9.6"
  }
 },
 "nbformat": 4,
 "nbformat_minor": 5
}
