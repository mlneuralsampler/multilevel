{
 "cells": [
  {
   "cell_type": "code",
   "execution_count": 1,
   "id": "a9ec5a5e-acd7-4f2c-a50f-cf2bf24f5c73",
   "metadata": {},
   "outputs": [],
   "source": [
    "import os\n",
    "import pickle\n",
    "import matplotlib.pyplot as plt\n",
    "import sys\n",
    "import os\n",
    "\n",
    "sys.path.append(os.path.abspath(\"..\"))  # Ensure it points to your project root\n",
    "\n",
    "from van_code.nn import NeuralVANMultilevel_block_wise\n",
    "from van_code.ising import ising_energy,analytical_solution,local_ising_energy\n",
    "from van_code.montecarlo import *\n",
    "from van_code.utils import *\n",
    "from van_code.obs import Obs\n",
    "from unzip import file_exists_or_unzip\n"
   ]
  },
  {
   "cell_type": "code",
   "execution_count": 2,
   "id": "5c4569e9-4b9e-4e87-871e-93d83c0511da",
   "metadata": {},
   "outputs": [
    {
     "name": "stdout",
     "output_type": "stream",
     "text": [
      "You are using device=mps.\n"
     ]
    }
   ],
   "source": [
    "if torch.backends.mps.is_available():\n",
    "    device = torch.device(\"mps\")\n",
    "    default_dtype_torch=torch.float32\n",
    "elif torch.cuda.is_available():\n",
    "    device = 'cuda'\n",
    "else:\n",
    "    device = torch.device(\"cpu\")\n",
    "print(f'You are using device={device}.')"
   ]
  },
  {
   "cell_type": "markdown",
   "id": "8164be43-0322-4b8c-ae36-a9b0b0e20310",
   "metadata": {},
   "source": [
    "-------------\n",
    "-------------\n",
    "# Model and parameters\n",
    "Our multilevel architecture uses different blocks of Autoregressive neural networks which are based on the VAN architecture by [Wu et al. (2019)](https://journals.aps.org/prl/abstract/10.1103/PhysRevLett.122.080602)."
   ]
  },
  {
   "cell_type": "code",
   "execution_count": 3,
   "id": "a7f18c2f-e4e7-4a4d-81ab-153f60db5425",
   "metadata": {},
   "outputs": [],
   "source": [
    "# This cell defines important parameters for the simulation\n",
    "\n",
    "Lc=2 # defines the coarser lattice\n",
    "beta=0.44 # defines the beta value (inverse of the temperature)\n",
    "\n",
    "# VAN parameters\n",
    "net_depth = 3\n",
    "net_width= 16\n",
    "half_kernel_size =6\n",
    "\n",
    "# Conditional VAN parameters\n",
    "# The i-th element of the list correspond to the parameters associated to the i-th block in the multilevel\n",
    "\n",
    "hidden_size=[[32]] * 10 # Hidden size of each CondVAN\n",
    "kernel_size=[[5,3]] * 10  # Kernel of CondVAN\n",
    "\n",
    "#Elia: @Kim questo mi sa che e' da cambiare sistematicamente in \"nblocks\" \n",
    "nlevels = 2 # Defines the number of blocks (upsamling step) in the multilevel. Every block doubles the lattice. Example: if the coarser is 2x2 after 3 levels we have 16x16\n",
    "hb_last = True # Whether to use heatbath to sample unbiased configuration from the last ARNN"
   ]
  },
  {
   "cell_type": "code",
   "execution_count": 4,
   "id": "e6e338fe-3d49-412c-99be-d84c4f7d2cf6",
   "metadata": {},
   "outputs": [],
   "source": [
    "van_hyp={\n",
    "    'net_depth':net_depth,\n",
    "    'net_width': net_width,\n",
    "    'half_kernel_size':half_kernel_size,\n",
    "    'bias':False,'z2':False,\n",
    "    'res_block':True,\n",
    "    'x_hat_clip':False,\n",
    "    'final_conv':True,\n",
    "    'epsilon':1.e-8,\n",
    "    'device':device\n",
    "}\n",
    "\n",
    "block_net_hyp={\n",
    "    'hidden_size':hidden_size,\n",
    "    'kernel_size':kernel_size,\n",
    "    'epsilon':1e-7,\n",
    "    'level':0,\n",
    "    'device':device\n",
    "}"
   ]
  },
  {
   "cell_type": "code",
   "execution_count": 5,
   "id": "994f246c-3856-4c65-8e2d-106364f5bb4e",
   "metadata": {},
   "outputs": [
    {
     "name": "stdout",
     "output_type": "stream",
     "text": [
      "k_size [[5, 3], [5, 3], [5, 3], [5, 3], [5, 3], [5, 3], [5, 3], [5, 3], [5, 3], [5, 3]]\n",
      "nnot gd 0 [5, 3]\n",
      "1 [5, 3]\n",
      "Lf= 8\n",
      "2 [5, 3]\n",
      "\n",
      "\n",
      "=======================================================================================================================================================\n",
      "\n",
      "You will start from coarser lattices of shape 2x2 and sample finer lattices of resolution 8x8 using 2 multilevel steps.\n",
      "\n",
      "=======================================================================================================================================================\n",
      "\n"
     ]
    }
   ],
   "source": [
    "# Building the model\n",
    "\n",
    "#Elia: Not needed in principle but good for the tutorial @Kim\n",
    "model = NeuralVANMultilevel_block_wise(\n",
    "    Lc,\n",
    "    van_hyp,\n",
    "    block_net_hyp,\n",
    "    nlevels,\n",
    "    hb_last,\n",
    "    ising_energy,\n",
    "    local_ising_energy,\n",
    "    beta,\n",
    "    device\n",
    ")\n",
    "Lf = model.Lf\n",
    "#print(model)\n",
    "\n",
    "print(f'\\n\\n=======================================================================================================================================================\\n')\n",
    "print(f'You will start from coarser lattices of shape {Lc}x{Lc} and sample finer lattices of resolution {model.Lf}x{model.Lf} using {nlevels} multilevel steps.')\n",
    "print(f'\\n=======================================================================================================================================================\\n')"
   ]
  },
  {
   "cell_type": "code",
   "execution_count": 6,
   "id": "6989f290-fcf4-42e6-8914-e7b658d58175",
   "metadata": {},
   "outputs": [],
   "source": [
    "# Define default parameters for optimizer and scheduler\n",
    "\n",
    "optimizer = torch.optim.Adam(model.parameters(), lr=0.0005)\n",
    "scheduler = torch.optim.lr_scheduler.ReduceLROnPlateau(optimizer, 'min', factor=0.92, patience=1000, min_lr=1e-07)\n",
    "\n",
    "# Define additional training parameters. Arbitrary values can be chosen\n",
    "# the values chosen below are optimized for the purpose of this demo.\n",
    "\n",
    "bs = 16\n",
    "nepochs = 500\n",
    "print_freq = 10\n",
    "lr = 0.001"
   ]
  },
  {
   "cell_type": "code",
   "execution_count": 7,
   "id": "6d9a949d-4642-4a59-a987-2282d0a12854",
   "metadata": {},
   "outputs": [],
   "source": [
    "# Choose main path to store model and logs\n",
    "main_path=''+'../data/'\n",
    "\n",
    "# Creates model identifier with corresponding params\n",
    "# '/Lf'+'_beta'+'_nblocks'+'_PCNNdepth'+'_width'+'_half_ker'+'_CCNNhs'+'_ks'\n",
    "\n",
    "model_id = f'{str(model.Lf)}_{str(beta)}_{str(nlevels)}_{str(net_depth)}_{str(net_width)}_{str(half_kernel_size)}_{str(hidden_size[0][0])}_{str(kernel_size[0])}'\n",
    "\n",
    "lc_path = main_path + 'training/' + model_id\n",
    "h_path = lc_path + '_history.log' # Path to Training history\n",
    "\n",
    "## Dict of paths to store different results\n",
    "\n",
    "res_paths = {\n",
    "    'weights': main_path+ 'model/'+ model_id +'.pth', # models' weights\n",
    "    'sim' : main_path + 'results/' + model_id + '_measures.log',  # Simulations logging\n",
    "    'sim_md' : main_path + 'results/' + model_id + '_measures_modedrop.log',  # Simulations mode dropping\n",
    "    'cluster' : main_path + 'results/' + model_id + '_measuresCluster.log',  # Simulations\n",
    "    'dict_hist' : lc_path + '_historyDict.pkl',  # dictionary learning curve\n",
    "    'mh' : main_path+'results/'+ model_id +'_measuresIMH.log' # neural MCMC sampling results\n",
    "}\n"
   ]
  },
  {
   "cell_type": "markdown",
   "id": "eee793ae-1622-4070-8627-ca9c012f7914",
   "metadata": {},
   "source": [
    "-------------\n",
    "-------------\n",
    "# Training"
   ]
  },
  {
   "cell_type": "markdown",
   "id": "f4364860",
   "metadata": {},
   "source": [
    "Let's train the model by recursevily training coarser models:"
   ]
  },
  {
   "cell_type": "code",
   "execution_count": 8,
   "id": "ea716074",
   "metadata": {},
   "outputs": [],
   "source": [
    "res_paths['weights']= 'pd.pth'"
   ]
  },
  {
   "cell_type": "code",
   "execution_count": 9,
   "id": "99a4067d",
   "metadata": {},
   "outputs": [
    {
     "name": "stdout",
     "output_type": "stream",
     "text": [
      "k_size [[5, 3], [5, 3], [5, 3], [5, 3], [5, 3], [5, 3], [5, 3], [5, 3], [5, 3], [5, 3]]\n",
      "Lf= 4\n",
      "0 [5, 3]\n",
      "Training VAN layers...\n"
     ]
    },
    {
     "name": "stderr",
     "output_type": "stream",
     "text": [
      "/Users/eliacellini/Desktop/scripting/multilevel/van_code/nn.py:713: FutureWarning: `torch.cuda.amp.GradScaler(args...)` is deprecated. Please use `torch.amp.GradScaler('cuda', args...)` instead.\n",
      "  scaler = torch.cuda.amp.GradScaler() # this function will be deprecated. When this happens use function below.\n",
      "/Users/eliacellini/Desktop/scripting/multilevel/.venv-mlt/lib/python3.9/site-packages/torch/amp/grad_scaler.py:132: UserWarning: torch.cuda.amp.GradScaler is enabled, but CUDA is not available.  Disabling.\n",
      "  warnings.warn(\n"
     ]
    },
    {
     "name": "stdout",
     "output_type": "stream",
     "text": [
      "step: 10, loss: -0.024321317672729492, w_mean: -2.991027355194092, w_var: 4.026379585266113, ess: 0.2309907078742981, free_en: -4.700806140899658, log_prob: -2.7710275650024414\n",
      "step: 20, loss: -0.05124866962432861, w_mean: -3.207880973815918, w_var: 2.987131357192993, ess: 0.23733673989772797, free_en: -4.673636436462402, log_prob: -2.767881393432617\n",
      "step: 30, loss: -0.060423970222473145, w_mean: -2.5661628246307373, w_var: 2.2947332859039307, ess: 0.12666556239128113, free_en: -3.775681972503662, log_prob: -2.786162853240967\n",
      "step: 40, loss: -0.4070560932159424, w_mean: -2.7618484497070312, w_var: 5.7050580978393555, ess: 0.291142076253891, free_en: -4.70198392868042, log_prob: -2.761848211288452\n",
      "step: 50, loss: -0.32531851530075073, w_mean: -3.1763968467712402, w_var: 2.332972288131714, ess: 0.26753032207489014, free_en: -4.319150924682617, log_prob: -2.7363967895507812\n",
      "step: 60, loss: -0.5192950367927551, w_mean: -3.169257164001465, w_var: 1.7588355541229248, ess: 0.3181145489215851, free_en: -4.0170183181762695, log_prob: -2.729257106781006\n",
      "step: 70, loss: -0.8720746040344238, w_mean: -3.506991147994995, w_var: 1.336010456085205, ess: 0.529438853263855, free_en: -4.037633895874023, log_prob: -2.6269912719726562\n",
      "step: 80, loss: -0.8842206597328186, w_mean: -3.9677820205688477, w_var: 0.7679620981216431, ess: 0.765957772731781, free_en: -4.241081237792969, log_prob: -2.2077817916870117\n",
      "step: 90, loss: -0.27179425954818726, w_mean: -4.1194562911987305, w_var: 0.4147716760635376, ess: 0.7254024147987366, free_en: -4.301563739776611, log_prob: -1.9194562435150146\n",
      "step: 100, loss: 0.0007259035483002663, w_mean: -4.366462707519531, w_var: 0.0007742729503661394, ess: 0.9992802739143372, free_en: -4.366825103759766, log_prob: -0.8464627265930176\n",
      "step: 110, loss: -0.08221456408500671, w_mean: -4.314883232116699, w_var: 0.01386726088821888, ess: 0.9911303520202637, free_en: -4.320619583129883, log_prob: -1.0148835182189941\n",
      "step: 120, loss: 0.3955978751182556, w_mean: -4.441641807556152, w_var: 0.18320131301879883, ess: 0.6075484156608582, free_en: -4.576024055480957, log_prob: -1.3616414070129395\n",
      "step: 130, loss: -0.1249912828207016, w_mean: -4.335564613342285, w_var: 0.029588785022497177, ess: 0.9810184240341187, free_en: -4.347853660583496, log_prob: -1.4755642414093018\n",
      "step: 140, loss: -0.2419968992471695, w_mean: -4.278084754943848, w_var: 0.04664669930934906, ess: 0.9698721766471863, free_en: -4.297623634338379, log_prob: -1.4180845022201538\n",
      "step: 150, loss: 0.004970910958945751, w_mean: -4.355122089385986, w_var: 0.015135696157813072, ess: 0.9875611066818237, free_en: -4.361885070800781, log_prob: -1.4951223134994507\n",
      "step: 160, loss: 0.344590961933136, w_mean: -4.460482597351074, w_var: 0.06403104215860367, ess: 0.9078675508499146, free_en: -4.496397972106934, log_prob: -1.3804821968078613\n",
      "step: 170, loss: -0.01847967319190502, w_mean: -4.3904194831848145, w_var: 0.0007974517066031694, ess: 0.9992868900299072, free_en: -4.390787124633789, log_prob: -1.0904195308685303\n",
      "step: 180, loss: -0.08088801801204681, w_mean: -4.341736793518066, w_var: 0.014888366684317589, ess: 0.9882366061210632, free_en: -4.348344802856445, log_prob: -2.361736536026001\n",
      "step: 190, loss: 0.20118626952171326, w_mean: -4.425112247467041, w_var: 0.03964545205235481, ess: 0.9304080009460449, free_en: -4.448653221130371, log_prob: -1.125112771987915\n",
      "step: 200, loss: -0.04843501001596451, w_mean: -4.353061676025391, w_var: 0.0018016793765127659, ess: 0.998437225818634, free_en: -4.353885173797607, log_prob: -1.493061900138855\n",
      "step: 210, loss: 0.0752774029970169, w_mean: -4.3924360275268555, w_var: 0.014671693556010723, ess: 0.9810193181037903, free_en: -4.4001240730285645, log_prob: -1.5324361324310303\n",
      "step: 220, loss: 7.684039883315563e-05, w_mean: -4.372458457946777, w_var: 8.182886813301593e-05, ess: 0.9999228119850159, free_en: -4.372496604919434, log_prob: -0.8524585962295532\n",
      "step: 230, loss: -0.08673102408647537, w_mean: -4.353842735290527, w_var: 0.006966414861381054, ess: 0.9945921301841736, free_en: -4.356915473937988, log_prob: -1.2738431692123413\n",
      "step: 240, loss: -0.017395466566085815, w_mean: -4.36143684387207, w_var: 0.03290390223264694, ess: 0.9575477242469788, free_en: -4.3787031173706055, log_prob: -1.941436767578125\n",
      "step: 250, loss: 0.11586016416549683, w_mean: -4.3989973068237305, w_var: 0.026947390288114548, ess: 0.9589532017707825, free_en: -4.414045333862305, log_prob: -1.3189976215362549\n",
      "step: 260, loss: -0.03278021886944771, w_mean: -4.355255126953125, w_var: 0.00178691151086241, ess: 0.9985467791557312, free_en: -4.356054306030273, log_prob: -1.05525541305542\n",
      "step: 270, loss: -0.054201170802116394, w_mean: -4.347871780395508, w_var: 0.0025702626444399357, ess: 0.9978480339050293, free_en: -4.349033355712891, log_prob: -1.2678720951080322\n",
      "step: 280, loss: 0.03271932154893875, w_mean: -4.3784990310668945, w_var: 0.019037678837776184, ess: 0.9750396609306335, free_en: -4.388526916503906, log_prob: -1.7384989261627197\n",
      "step: 290, loss: 3.838984412141144e-06, w_mean: -4.375430583953857, w_var: 4.149476353632053e-06, ess: 0.9999952912330627, free_en: -4.375432014465332, log_prob: -0.8554304242134094\n",
      "step: 300, loss: -0.06774956732988358, w_mean: -4.345458984375, w_var: 0.0027995731215924025, ess: 0.9975910782814026, free_en: -4.34673547744751, log_prob: -1.4854588508605957\n",
      "step: 310, loss: 0.02941085398197174, w_mean: -4.380032062530518, w_var: 0.006235836073756218, ess: 0.9931485652923584, free_en: -4.383113384246826, log_prob: -1.3000319004058838\n",
      "step: 320, loss: -0.08400248736143112, w_mean: -4.355723857879639, w_var: 0.0063943397253751755, ess: 0.995003879070282, free_en: -4.358550071716309, log_prob: -1.2757236957550049\n",
      "step: 330, loss: -0.15600448846817017, w_mean: -4.339158058166504, w_var: 0.01716138981282711, ess: 0.9872258305549622, free_en: -4.346643447875977, log_prob: -1.4791584014892578\n",
      "step: 340, loss: 3.365569864399731e-05, w_mean: -4.38368034362793, w_var: 3.6145764170214534e-05, ess: 0.9999666213989258, free_en: -4.383697032928467, log_prob: -0.8636802434921265\n",
      "step: 350, loss: -0.08871996402740479, w_mean: -4.3556365966796875, w_var: 0.007203949149698019, ess: 0.9944233298301697, free_en: -4.358811378479004, log_prob: -1.275636911392212\n",
      "step: 360, loss: 0.10617215931415558, w_mean: -4.417694091796875, w_var: 0.023508494719862938, ess: 0.9724979400634766, free_en: -4.429596424102783, log_prob: -1.5576943159103394\n",
      "step: 370, loss: -0.0727633386850357, w_mean: -4.364421844482422, w_var: 0.004890698939561844, ess: 0.9961203932762146, free_en: -4.366593360900879, log_prob: -1.2844219207763672\n",
      "step: 380, loss: -0.11236368864774704, w_mean: -4.333786964416504, w_var: 0.006531399674713612, ess: 0.9944726228713989, free_en: -4.336751937866211, log_prob: -1.6937870979309082\n",
      "step: 390, loss: -0.04365385323762894, w_mean: -4.351190567016602, w_var: 0.0011677516158670187, ess: 0.9989667534828186, free_en: -4.351727485656738, log_prob: -1.4911904335021973\n",
      "step: 400, loss: 0.06606444716453552, w_mean: -4.392343521118164, w_var: 0.021050820127129555, ess: 0.9705708026885986, free_en: -4.403705596923828, log_prob: -1.5323431491851807\n",
      "step: 410, loss: -0.1173759251832962, w_mean: -4.360315322875977, w_var: 0.015224012546241283, ess: 0.9897153973579407, free_en: -4.366732597351074, log_prob: -1.2803153991699219\n",
      "step: 420, loss: -0.016958966851234436, w_mean: -4.382260799407959, w_var: 0.013177275657653809, ess: 0.9895531535148621, free_en: -4.388079643249512, log_prob: -1.3022607564926147\n",
      "step: 430, loss: 0.06849115341901779, w_mean: -4.397648811340332, w_var: 0.020014239475131035, ess: 0.9741074442863464, free_en: -4.4081268310546875, log_prob: -1.3176487684249878\n",
      "step: 440, loss: 0.04226887226104736, w_mean: -4.385246276855469, w_var: 0.032271455973386765, ess: 0.9528308510780334, free_en: -4.402987003326416, log_prob: -1.9652459621429443\n",
      "step: 450, loss: -0.17545536160469055, w_mean: -4.3255462646484375, w_var: 0.018285950645804405, ess: 0.9860148429870605, free_en: -4.333593368530273, log_prob: -1.6855461597442627\n",
      "step: 460, loss: 0.037458475679159164, w_mean: -4.392416954040527, w_var: 0.008654738776385784, ess: 0.990134596824646, free_en: -4.396747589111328, log_prob: -1.312416672706604\n",
      "step: 470, loss: -0.06534364074468613, w_mean: -4.354958534240723, w_var: 0.0038390159606933594, ess: 0.9968844652175903, free_en: -4.35667610168457, log_prob: -1.274958848953247\n",
      "step: 480, loss: 0.09406846016645432, w_mean: -4.412601470947266, w_var: 0.01045127585530281, ess: 0.9861540794372559, free_en: -4.41812801361084, log_prob: -1.1126012802124023\n",
      "step: 490, loss: -0.12090093642473221, w_mean: -4.345293998718262, w_var: 0.009954470209777355, ess: 0.9921876788139343, free_en: -4.349703788757324, log_prob: -1.485293984413147\n",
      "step: 500, loss: 0.1797061562538147, w_mean: -4.42679500579834, w_var: 0.033804308623075485, ess: 0.9572892785072327, free_en: -4.444549560546875, log_prob: -1.566794991493225\n",
      "Total time taken : 4.105449914932251\n",
      "k_size [[5, 3], [5, 3], [5, 3], [5, 3], [5, 3], [5, 3], [5, 3], [5, 3], [5, 3], [5, 3]]\n",
      "Lf= 4\n",
      "0 [5, 3]\n",
      "Training Started at level_ 1\n"
     ]
    },
    {
     "name": "stderr",
     "output_type": "stream",
     "text": [
      "/Users/eliacellini/Desktop/scripting/multilevel/van_code/nn.py:774: FutureWarning: `torch.cuda.amp.autocast(args...)` is deprecated. Please use `torch.amp.autocast('cuda', args...)` instead.\n",
      "  with torch.cuda.amp.autocast(): #this function will be deprecated. If this happens use function below.\n",
      "/Users/eliacellini/Desktop/scripting/multilevel/.venv-mlt/lib/python3.9/site-packages/torch/amp/autocast_mode.py:266: UserWarning: User provided device_type of 'cuda', but CUDA is not available. Disabling\n",
      "  warnings.warn(\n"
     ]
    },
    {
     "name": "stdout",
     "output_type": "stream",
     "text": [
      "step: 10, loss: -1.143310546875, w_mean: -13.868579864501953, w_var: 0.9043958783149719, ess: 0.29317882657051086, free_en: -14.415142059326172, log_prob: -9.46858024597168\n",
      "step: 20, loss: -2.013187885284424, w_mean: -13.891091346740723, w_var: 2.0335302352905273, ess: 0.09021517634391785, free_en: -15.719757080078125, log_prob: -9.381091117858887\n",
      "step: 30, loss: -2.162574291229248, w_mean: -14.662516593933105, w_var: 1.6866899728775024, ess: 0.21063056588172913, free_en: -15.600448608398438, log_prob: -8.39251708984375\n",
      "step: 40, loss: -2.4868741035461426, w_mean: -14.457378387451172, w_var: 1.7641164064407349, ess: 0.2528989315032959, free_en: -15.308717727661133, log_prob: -8.957377433776855\n",
      "step: 50, loss: -0.5290002822875977, w_mean: -14.554505348205566, w_var: 0.9293930530548096, ess: 0.299626886844635, free_en: -15.140966415405273, log_prob: -9.054506301879883\n",
      "step: 60, loss: -3.097440004348755, w_mean: -15.16466236114502, w_var: 1.3599491119384766, ess: 0.5634143352508545, free_en: -15.704023361206055, log_prob: -7.134662628173828\n",
      "step: 70, loss: -1.900172233581543, w_mean: -15.471808433532715, w_var: 0.8794865012168884, ess: 0.7744089365005493, free_en: -15.743553161621094, log_prob: -4.8018083572387695\n",
      "step: 80, loss: -1.2054553031921387, w_mean: -15.225568771362305, w_var: 0.43851542472839355, ess: 0.8702530264854431, free_en: -15.368904113769531, log_prob: -6.205569267272949\n",
      "step: 90, loss: -0.1077365130186081, w_mean: -15.38517951965332, w_var: 0.09099781513214111, ess: 0.9399095773696899, free_en: -15.422746658325195, log_prob: -4.055180549621582\n",
      "step: 100, loss: -0.6719244122505188, w_mean: -15.243019104003906, w_var: 0.13522647321224213, ess: 0.9225637316703796, free_en: -15.298151016235352, log_prob: -5.673018455505371\n",
      "step: 110, loss: 0.17432191967964172, w_mean: -15.476595878601074, w_var: 0.0650750994682312, ess: 0.9223315119743347, free_en: -15.509462356567383, log_prob: -3.7065958976745605\n",
      "step: 120, loss: 0.27598732709884644, w_mean: -15.563619613647461, w_var: 0.04003211483359337, ess: 0.9672553539276123, free_en: -15.58149528503418, log_prob: -3.4636189937591553\n",
      "step: 130, loss: -0.8157438039779663, w_mean: -15.454721450805664, w_var: 0.11268460750579834, ess: 0.9422250390052795, free_en: -15.498191833496094, log_prob: -3.574721097946167\n",
      "step: 140, loss: -0.11764353513717651, w_mean: -15.415868759155273, w_var: 0.016800886020064354, ess: 0.985422670841217, free_en: -15.423542022705078, log_prob: -4.965868949890137\n",
      "step: 150, loss: 0.011894471943378448, w_mean: -15.438886642456055, w_var: 0.004518227651715279, ess: 0.9958791732788086, free_en: -15.440984725952148, log_prob: -4.768886566162109\n",
      "step: 160, loss: -0.5149208903312683, w_mean: -15.433143615722656, w_var: 0.13675370812416077, ess: 0.8319993019104004, free_en: -15.50369644165039, log_prob: -4.10314416885376\n",
      "step: 170, loss: -0.3269382119178772, w_mean: -15.41932487487793, w_var: 0.058258187025785446, ess: 0.9481887817382812, free_en: -15.446348190307617, log_prob: -5.8493242263793945\n",
      "step: 180, loss: -0.2400120496749878, w_mean: -15.471686363220215, w_var: 0.0533725768327713, ess: 0.9439446330070496, free_en: -15.497411727905273, log_prob: -3.9216866493225098\n",
      "step: 190, loss: 0.055681198835372925, w_mean: -15.485248565673828, w_var: 0.05437824875116348, ess: 0.9092487096786499, free_en: -15.516990661621094, log_prob: -4.925249099731445\n",
      "step: 200, loss: -0.4611862897872925, w_mean: -15.410811424255371, w_var: 0.051194336265325546, ess: 0.9557166695594788, free_en: -15.434284210205078, log_prob: -5.180810928344727\n",
      "step: 210, loss: -0.17578363418579102, w_mean: -15.462814331054688, w_var: 0.05311378836631775, ess: 0.9491984844207764, free_en: -15.487773895263672, log_prob: -4.682814598083496\n",
      "step: 220, loss: -0.06931115686893463, w_mean: -15.479360580444336, w_var: 0.009785533882677555, ess: 0.9922273755073547, free_en: -15.483705520629883, log_prob: -3.48936128616333\n",
      "step: 230, loss: -0.9370341897010803, w_mean: -15.312440872192383, w_var: 0.09981181472539902, ess: 0.9386877417564392, free_en: -15.35374641418457, log_prob: -5.852440357208252\n",
      "step: 240, loss: 0.04979780316352844, w_mean: -15.511874198913574, w_var: 0.058588657528162, ess: 0.9185429215431213, free_en: -15.543855667114258, log_prob: -4.181874752044678\n",
      "step: 250, loss: -0.45391374826431274, w_mean: -15.405866622924805, w_var: 0.024707747623324394, ess: 0.9826598167419434, free_en: -15.416435241699219, log_prob: -4.625866413116455\n",
      "step: 260, loss: -0.13689419627189636, w_mean: -15.446475982666016, w_var: 0.03532258793711662, ess: 0.9675394892692566, free_en: -15.462959289550781, log_prob: -5.106476306915283\n",
      "step: 270, loss: -0.3097541034221649, w_mean: -15.460689544677734, w_var: 0.0995258167386055, ess: 0.8815262317657471, free_en: -15.512466430664062, log_prob: -4.790689468383789\n",
      "step: 280, loss: -0.23412710428237915, w_mean: -15.464593887329102, w_var: 0.045079756528139114, ess: 0.9564278721809387, free_en: -15.485771179199219, log_prob: -3.9145946502685547\n",
      "step: 290, loss: -0.008662167936563492, w_mean: -15.494714736938477, w_var: 0.00573363434523344, ess: 0.9950019717216492, free_en: -15.497335433959961, log_prob: -3.6147141456604004\n",
      "step: 300, loss: -0.8638041615486145, w_mean: -15.335245132446289, w_var: 0.11562032997608185, ess: 0.9194684624671936, free_en: -15.385746002197266, log_prob: -7.305245399475098\n",
      "step: 310, loss: 0.3808896243572235, w_mean: -15.55594253540039, w_var: 0.0734129473567009, ess: 0.9366631507873535, free_en: -15.589883804321289, log_prob: -5.985942363739014\n",
      "step: 320, loss: -0.03686053305864334, w_mean: -15.516613006591797, w_var: 0.014310622587800026, ess: 0.984626054763794, free_en: -15.523626327514648, log_prob: -4.07661247253418\n",
      "step: 330, loss: -0.6016469597816467, w_mean: -15.450496673583984, w_var: 0.08419419825077057, ess: 0.9297605156898499, free_en: -15.48823356628418, log_prob: -3.790496587753296\n",
      "step: 340, loss: 0.017824996262788773, w_mean: -15.47783088684082, w_var: 0.049252886325120926, ess: 0.9383583664894104, free_en: -15.503257751464844, log_prob: -4.587831497192383\n",
      "step: 350, loss: -0.1320309042930603, w_mean: -15.497088432312012, w_var: 0.03721551597118378, ess: 0.9725610017776489, free_en: -15.513177871704102, log_prob: -5.047087669372559\n",
      "step: 360, loss: -0.4859221577644348, w_mean: -15.408793449401855, w_var: 0.03346361219882965, ess: 0.9774482250213623, free_en: -15.42294692993164, log_prob: -3.9687936305999756\n",
      "step: 370, loss: -0.17331406474113464, w_mean: -15.471613883972168, w_var: 0.07486163824796677, ess: 0.9314965009689331, free_en: -15.50668716430664, log_prob: -5.351613998413086\n",
      "step: 380, loss: -0.022389113903045654, w_mean: -15.51301097869873, w_var: 0.03664838895201683, ess: 0.9501150250434875, free_en: -15.53261947631836, log_prob: -3.4130117893218994\n",
      "step: 390, loss: -0.021747171878814697, w_mean: -15.511297225952148, w_var: 0.0466044656932354, ess: 0.9518055319786072, free_en: -15.533893585205078, log_prob: -3.7412972450256348\n",
      "step: 400, loss: 0.025746768340468407, w_mean: -15.494932174682617, w_var: 0.007004298269748688, ess: 0.9936743974685669, free_en: -15.498178482055664, log_prob: -4.164933204650879\n",
      "step: 410, loss: -0.11180569231510162, w_mean: -15.543956756591797, w_var: 0.056256115436553955, ess: 0.946985125541687, free_en: -15.57023811340332, log_prob: -3.8839564323425293\n",
      "step: 420, loss: -0.178259938955307, w_mean: -15.445237159729004, w_var: 0.01511386688798666, ess: 0.9885778427124023, free_en: -15.451841354370117, log_prob: -3.895237445831299\n",
      "step: 430, loss: 0.11582866311073303, w_mean: -15.524731636047363, w_var: 0.057472795248031616, ess: 0.9313543438911438, free_en: -15.554464340209961, log_prob: -4.964731216430664\n",
      "step: 440, loss: 0.14193201065063477, w_mean: -15.532346725463867, w_var: 0.08139076828956604, ess: 0.9241311550140381, free_en: -15.57097053527832, log_prob: -5.192346572875977\n",
      "step: 450, loss: 0.06063833832740784, w_mean: -15.481058120727539, w_var: 0.07078217715024948, ess: 0.9128317832946777, free_en: -15.517341613769531, log_prob: -5.2510576248168945\n",
      "step: 460, loss: -0.09443408250808716, w_mean: -15.555070877075195, w_var: 0.08015567064285278, ess: 0.9107553362846375, free_en: -15.595609664916992, log_prob: -5.875070571899414\n",
      "step: 470, loss: -0.062267005443573, w_mean: -15.47440242767334, w_var: 0.0799042358994484, ess: 0.9419518709182739, free_en: -15.508363723754883, log_prob: -4.8044023513793945\n",
      "step: 480, loss: 0.1965770423412323, w_mean: -15.520784378051758, w_var: 0.10126351565122604, ess: 0.897696316242218, free_en: -15.570610046386719, log_prob: -4.410784721374512\n",
      "step: 490, loss: -0.003978952765464783, w_mean: -15.51123046875, w_var: 0.03417094796895981, ess: 0.952426552772522, free_en: -15.529670715332031, log_prob: -3.4112305641174316\n",
      "step: 500, loss: -0.13695025444030762, w_mean: -15.455499649047852, w_var: 0.005872056353837252, ess: 0.9951500296592712, free_en: -15.458141326904297, log_prob: -3.685499906539917\n",
      "Total time taken : 9.210705041885376\n",
      "k_size [[5, 3], [5, 3], [5, 3], [5, 3], [5, 3], [5, 3], [5, 3], [5, 3], [5, 3], [5, 3]]\n",
      "nnot gd 0 [5, 3]\n",
      "1 [5, 3]\n",
      "Lf= 8\n",
      "2 [5, 3]\n",
      "5 5\n",
      "3 3\n",
      "Training Started at level_ 2\n",
      "step: 10, loss: -2.6631875038146973, w_mean: -54.59488296508789, w_var: 3.962204933166504, ess: 0.2242022305727005, free_en: -56.259971618652344, log_prob: -36.55487823486328\n",
      "step: 20, loss: -3.6408252716064453, w_mean: -55.977500915527344, w_var: 4.336784362792969, ess: 0.12192454189062119, free_en: -58.03382110595703, log_prob: -36.837501525878906\n",
      "step: 30, loss: -4.830787181854248, w_mean: -56.670799255371094, w_var: 5.540742874145508, ess: 0.1145794540643692, free_en: -59.177772521972656, log_prob: -35.11080551147461\n",
      "step: 40, loss: -8.787004470825195, w_mean: -57.59178924560547, w_var: 6.467264175415039, ess: 0.07421661913394928, free_en: -61.025733947753906, log_prob: -32.51179122924805\n",
      "step: 50, loss: -5.089543342590332, w_mean: -57.72556686401367, w_var: 1.7144763469696045, ess: 0.5006887912750244, free_en: -58.356285095214844, log_prob: -31.985567092895508\n",
      "step: 60, loss: -3.5427439212799072, w_mean: -58.02861022949219, w_var: 1.7099794149398804, ess: 0.4537275433540344, free_en: -58.713539123535156, log_prob: -30.198606491088867\n",
      "step: 70, loss: -3.878086566925049, w_mean: -58.85411071777344, w_var: 1.423959493637085, ess: 0.35860779881477356, free_en: -59.54969787597656, log_prob: -26.294113159179688\n",
      "step: 80, loss: -3.185016632080078, w_mean: -58.70794677734375, w_var: 1.358705997467041, ess: 0.4235146939754486, free_en: -59.27747344970703, log_prob: -25.92794418334961\n",
      "step: 90, loss: -6.24372673034668, w_mean: -59.417945861816406, w_var: 1.2213473320007324, ess: 0.48011377453804016, free_en: -59.964691162109375, log_prob: -25.977947235107422\n",
      "step: 100, loss: -3.98726749420166, w_mean: -59.327735900878906, w_var: 1.4700545072555542, ess: 0.32017382979393005, free_en: -60.08186340332031, log_prob: -25.887737274169922\n",
      "step: 110, loss: -4.589901924133301, w_mean: -59.72994613647461, w_var: 1.6133254766464233, ess: 0.42012590169906616, free_en: -60.45098114013672, log_prob: -22.329944610595703\n",
      "step: 120, loss: -3.4735162258148193, w_mean: -59.794334411621094, w_var: 0.5867375731468201, ess: 0.7563861012458801, free_en: -60.019569396972656, log_prob: -20.304332733154297\n",
      "step: 130, loss: -3.8149311542510986, w_mean: -59.83174133300781, w_var: 0.6862616539001465, ess: 0.6023262143135071, free_en: -60.1263427734375, log_prob: -17.261741638183594\n",
      "step: 140, loss: 1.0056378841400146, w_mean: -59.767906188964844, w_var: 0.2972731292247772, ess: 0.744125485420227, free_en: -59.91193389892578, log_prob: -15.107905387878418\n",
      "step: 150, loss: 0.702965259552002, w_mean: -59.810302734375, w_var: 0.32155612111091614, ess: 0.6443653702735901, free_en: -59.985328674316406, log_prob: -19.000303268432617\n",
      "step: 160, loss: 0.3257654905319214, w_mean: -60.129005432128906, w_var: 0.10761971026659012, ess: 0.9095401167869568, free_en: -60.17913818359375, log_prob: -17.559009552001953\n",
      "step: 170, loss: 1.3717951774597168, w_mean: -60.13172912597656, w_var: 0.17087239027023315, ess: 0.7837316393852234, free_en: -60.22569274902344, log_prob: -13.71173095703125\n",
      "step: 180, loss: 0.1164776086807251, w_mean: -59.954490661621094, w_var: 0.14610332250595093, ess: 0.8521098494529724, free_en: -60.02781677246094, log_prob: -18.044490814208984\n",
      "step: 190, loss: -0.6988568305969238, w_mean: -59.97456741333008, w_var: 0.1912238746881485, ess: 0.8327898979187012, free_en: -60.06678009033203, log_prob: -20.374568939208984\n",
      "step: 200, loss: -0.445795476436615, w_mean: -59.900535583496094, w_var: 0.09072471410036087, ess: 0.9063467383384705, free_en: -59.945068359375, log_prob: -15.570533752441406\n",
      "step: 210, loss: 0.39938992261886597, w_mean: -60.089324951171875, w_var: 0.07518024742603302, ess: 0.9286333322525024, free_en: -60.12549591064453, log_prob: -16.089324951171875\n",
      "step: 220, loss: 0.6786528825759888, w_mean: -60.01113510131836, w_var: 0.08839148283004761, ess: 0.9258319139480591, free_en: -60.0516357421875, log_prob: -15.131135940551758\n",
      "step: 230, loss: 0.8945361375808716, w_mean: -60.2578125, w_var: 0.107803575694561, ess: 0.8853107690811157, free_en: -60.311912536621094, log_prob: -15.817813873291016\n",
      "step: 240, loss: 1.1031347513198853, w_mean: -60.113037109375, w_var: 0.14204835891723633, ess: 0.8618451356887817, free_en: -60.18376159667969, log_prob: -15.893037796020508\n",
      "step: 250, loss: -1.3986155986785889, w_mean: -59.92854690551758, w_var: 0.25204411149024963, ess: 0.7375859022140503, free_en: -60.057228088378906, log_prob: -21.09854507446289\n",
      "step: 260, loss: -2.994135856628418, w_mean: -59.7225341796875, w_var: 0.17834816873073578, ess: 0.8959583640098572, free_en: -59.79536437988281, log_prob: -19.572534561157227\n",
      "step: 270, loss: 0.42663028836250305, w_mean: -59.97035598754883, w_var: 0.0531202107667923, ess: 0.9149898290634155, free_en: -60.000823974609375, log_prob: -12.450355529785156\n",
      "step: 280, loss: -1.5096015930175781, w_mean: -59.940555572509766, w_var: 0.09258276969194412, ess: 0.9268708825111389, free_en: -59.98167419433594, log_prob: -15.940555572509766\n",
      "step: 290, loss: 0.019719496369361877, w_mean: -59.96757125854492, w_var: 0.13651585578918457, ess: 0.8508365154266357, free_en: -60.037689208984375, log_prob: -14.977571487426758\n",
      "step: 300, loss: 0.2230709195137024, w_mean: -59.980228424072266, w_var: 0.14072595536708832, ess: 0.8309304118156433, free_en: -60.054412841796875, log_prob: -15.100228309631348\n",
      "step: 310, loss: 0.49818769097328186, w_mean: -59.966068267822266, w_var: 0.07574725896120071, ess: 0.9411581158638, free_en: -59.99961853027344, log_prob: -14.646069526672363\n",
      "step: 320, loss: -1.3469728231430054, w_mean: -59.9107551574707, w_var: 0.11235799640417099, ess: 0.928930938243866, free_en: -59.95692443847656, log_prob: -17.230754852294922\n",
      "step: 330, loss: 0.5987818241119385, w_mean: -60.16361618041992, w_var: 0.13589341938495636, ess: 0.8669494986534119, free_en: -60.230224609375, log_prob: -18.253616333007812\n",
      "step: 340, loss: -2.762294292449951, w_mean: -60.0650634765625, w_var: 0.3761079013347626, ess: 0.804622232913971, free_en: -60.21294403076172, log_prob: -21.015064239501953\n",
      "step: 350, loss: -1.1151938438415527, w_mean: -59.98125457763672, w_var: 0.19711171090602875, ess: 0.894667387008667, free_en: -60.057579040527344, log_prob: -20.271255493164062\n",
      "step: 360, loss: 0.4395764470100403, w_mean: -59.97182846069336, w_var: 0.18977871537208557, ess: 0.8091468811035156, free_en: -60.06687927246094, log_prob: -16.30182647705078\n",
      "step: 370, loss: -0.5229817032814026, w_mean: -59.98551940917969, w_var: 0.10736517608165741, ess: 0.8997258543968201, free_en: -60.03742980957031, log_prob: -17.635517120361328\n",
      "step: 380, loss: -1.0120444297790527, w_mean: -59.97194290161133, w_var: 0.12682755291461945, ess: 0.8889588713645935, free_en: -60.029441833496094, log_prob: -17.40194320678711\n",
      "step: 390, loss: -3.023056983947754, w_mean: -59.749568939208984, w_var: 0.21845349669456482, ess: 0.858851969242096, free_en: -59.842742919921875, log_prob: -19.48956871032715\n",
      "step: 400, loss: -1.0664777755737305, w_mean: -59.90705108642578, w_var: 0.13934464752674103, ess: 0.8944830894470215, free_en: -59.96966552734375, log_prob: -19.207048416137695\n",
      "step: 410, loss: 0.35970354080200195, w_mean: -60.19319534301758, w_var: 0.273436963558197, ess: 0.7340771555900574, free_en: -60.3319091796875, log_prob: -17.843196868896484\n",
      "step: 420, loss: -0.9050307273864746, w_mean: -60.01710510253906, w_var: 0.27879467606544495, ess: 0.804180383682251, free_en: -60.138389587402344, log_prob: -20.857105255126953\n",
      "step: 430, loss: 1.2197611331939697, w_mean: -60.14795684814453, w_var: 0.22093777358531952, ess: 0.6920630931854248, free_en: -60.28118896484375, log_prob: -15.267959594726562\n",
      "step: 440, loss: -3.4219613075256348, w_mean: -59.79750442504883, w_var: 0.39678841829299927, ess: 0.7853957414627075, free_en: -59.95972442626953, log_prob: -22.617504119873047\n",
      "step: 450, loss: -2.408808469772339, w_mean: -60.021488189697266, w_var: 0.4191547632217407, ess: 0.7468270659446716, free_en: -60.19456481933594, log_prob: -19.6514892578125\n",
      "step: 460, loss: -4.869606971740723, w_mean: -59.77239990234375, w_var: 0.5968580842018127, ess: 0.7433537840843201, free_en: -60.000205993652344, log_prob: -24.572402954101562\n",
      "step: 470, loss: 0.010867089033126831, w_mean: -60.05399703979492, w_var: 0.06160303205251694, ess: 0.9336416125297546, free_en: -60.084861755371094, log_prob: -18.58399772644043\n",
      "step: 480, loss: 0.4048205316066742, w_mean: -59.8708381652832, w_var: 0.10395673662424088, ess: 0.8599863052368164, free_en: -59.928260803222656, log_prob: -14.660840034484863\n",
      "step: 490, loss: 0.3405764102935791, w_mean: -60.080841064453125, w_var: 0.31109097599983215, ess: 0.6898068785667419, free_en: -60.24394989013672, log_prob: -18.39084243774414\n",
      "step: 500, loss: -0.28411340713500977, w_mean: -59.9537239074707, w_var: 0.15329842269420624, ess: 0.8985527753829956, free_en: -60.018898010253906, log_prob: -17.933725357055664\n",
      "Total time taken : 26.818089962005615\n"
     ]
    }
   ],
   "source": [
    "ESS=[]\n",
    "for i in range(0,nlevels+1):\n",
    "    if i !=0:\n",
    "        saved_state_dict = torch.load(res_paths['weights'])\n",
    "        model.load_state_dict(saved_state_dict, strict=True)\n",
    "    model = NeuralVANMultilevel_block_wise(\n",
    "        Lc,\n",
    "        van_hyp,\n",
    "        block_net_hyp,\n",
    "        i,\n",
    "        hb_last,\n",
    "        ising_energy,\n",
    "        local_ising_energy,\n",
    "        beta,\n",
    "        device\n",
    "        )\n",
    "    \n",
    "    history=model.train(500, bs, lr, print_freq, h_path, flex_kernel=True, on_file=True)\n",
    "\n",
    "    torch.save(model.state_dict(),res_paths['weights'])\n",
    "    ESS+=history['ESS']"
   ]
  },
  {
   "cell_type": "code",
   "execution_count": 10,
   "id": "f0da3345",
   "metadata": {},
   "outputs": [
    {
     "data": {
      "text/plain": [
       "Text(0.5, 0, 'Training steps for the current level')"
      ]
     },
     "execution_count": 10,
     "metadata": {},
     "output_type": "execute_result"
    },
    {
     "data": {
      "image/png": "[encoded data removed]",
      "text/plain": [
       "<Figure size 640x480 with 1 Axes>"
      ]
     },
     "metadata": {},
     "output_type": "display_data"
    }
   ],
   "source": [
    "plt.plot(np.asarray(ESS))\n",
    "plt.ylabel('ESS')\n",
    "plt.xlabel('Training steps for the current level')"
   ]
  },
  {
   "cell_type": "markdown",
   "id": "205ed70f",
   "metadata": {},
   "source": [
    "### In order to do the warm-restart training, the model loads weights of the previous levels (if checkpoint exists). If no weights are available train a new model from scratch. "
   ]
  },
  {
   "cell_type": "code",
   "execution_count": 11,
   "id": "a2de395c-9d62-4310-a4e6-3b55f0028563",
   "metadata": {},
   "outputs": [
    {
     "data": {
      "text/plain": [
       "'if os.path.exists(res_paths[\\'weights\\'] and res_paths[\\'dict_hist\\']):\\n    print(f\\'\\n============================================================================================================================\\n\\')\\n    print(f\"Loading model {res_paths[\\'weights\\']}.\")\\n    print(f\\'\\n============================================================================================================================\\n\\')\\n    load(model, optimizer, res_paths[\\'weights\\'])\\n    with open(res_paths[\\'dict_hist\\'], \\'rb\\') as handle:\\n        history= pickle.load(handle)\\n    print(f\\'\\n============================================================================================================================\\n\\')\\n    print(f\"Loading successful!\")\\n    print(f\\'\\n============================================================================================================================\\n\\')\\n\\nelse:\\n    print(f\\'\\n============================================================================================================================\\n\\')\\n    print(f\"Nothing to load. Training of new model... \")\\n    print(f\\'\\n============================================================================================================================\\n\\')\\n\\n    history=model.train(nepochs, bs, lr, print_freq, h_path, flex_kernel=True, on_file=True)\\n    save(model, optimizer, res_paths[\\'weights\\'])\\n    write(history, lc_path)\\n\\n    print(f\\'\\n============================================================================================================================\\n\\')\\n    print(f\"Training successful!\")\\n    print(f\\'\\n============================================================================================================================\\n\\')\\n'"
      ]
     },
     "execution_count": 11,
     "metadata": {},
     "output_type": "execute_result"
    }
   ],
   "source": [
    "'''if os.path.exists(res_paths['weights'] and res_paths['dict_hist']):\n",
    "    print(f'\\n============================================================================================================================\\n')\n",
    "    print(f\"Loading model {res_paths['weights']}.\")\n",
    "    print(f'\\n============================================================================================================================\\n')\n",
    "    load(model, optimizer, res_paths['weights'])\n",
    "    with open(res_paths['dict_hist'], 'rb') as handle:\n",
    "        history= pickle.load(handle)\n",
    "    print(f'\\n============================================================================================================================\\n')\n",
    "    print(f\"Loading successful!\")\n",
    "    print(f'\\n============================================================================================================================\\n')\n",
    "\n",
    "else:\n",
    "    print(f'\\n============================================================================================================================\\n')\n",
    "    print(f\"Nothing to load. Training of new model... \")\n",
    "    print(f'\\n============================================================================================================================\\n')\n",
    "\n",
    "    history=model.train(nepochs, bs, lr, print_freq, h_path, flex_kernel=True, on_file=True)\n",
    "    save(model, optimizer, res_paths['weights'])\n",
    "    write(history, lc_path)\n",
    "\n",
    "    print(f'\\n============================================================================================================================\\n')\n",
    "    print(f\"Training successful!\")\n",
    "    print(f'\\n============================================================================================================================\\n')\n",
    "'''"
   ]
  },
  {
   "cell_type": "code",
   "execution_count": 12,
   "id": "4a949452-ab47-4670-9245-c646cc7b3693",
   "metadata": {},
   "outputs": [
    {
     "data": {
      "image/png": "[encoded data removed]",
      "text/plain": [
       "<Figure size 640x480 with 1 Axes>"
      ]
     },
     "metadata": {},
     "output_type": "display_data"
    }
   ],
   "source": [
    "bins = 10 # binning to plot training history.\n",
    "\n",
    "if history:\n",
    "    plt.plot(np.asarray(history['ESS']))\n",
    "    plt.ylabel('ESS')\n",
    "    plt.xlabel('Training steps for the current level')"
   ]
  },
  {
   "cell_type": "markdown",
   "id": "5c51a028-9e89-4544-a528-2aa80f57b118",
   "metadata": {},
   "source": [
    "-------------\n",
    "-------------\n",
    "# Analysis: Reverse Metrics\n",
    "This sections includes metrics which require samples from the model, e.g., $s\\sim q_\\theta$ where $q_\\theta$ is the autoregressive neural network.\n",
    "The resulting script `res_paths['sim']` will store:\n",
    "\n",
    "`Loss, FreeEn, ESS_rev, InternalEn, Absmag`"
   ]
  },
  {
   "cell_type": "code",
   "execution_count": 13,
   "id": "ba045204-fb9d-4fcd-bfd3-bdadcd951ccd",
   "metadata": {},
   "outputs": [],
   "source": [
    "model.eval()\n",
    "w,E,m,t = model.sample_n_OBS(100,1000)"
   ]
  },
  {
   "cell_type": "code",
   "execution_count": 14,
   "id": "d12ab2f7-55e3-4532-b794-7aac9e3ff4d4",
   "metadata": {},
   "outputs": [
    {
     "name": "stdout",
     "output_type": "stream",
     "text": [
      "Results saved at: ../data/results/8_0.44_2_3_16_6_32_[5, 3]_measures.log\n"
     ]
    }
   ],
   "source": [
    "gamma_analysis(w, res_paths['sim']) # Stores data: Loss, FreeEn, ESS_rev\n",
    "_=gamma_analysis_OBS(E, w, res_paths['sim']) # Stores data: Internal Energy\n",
    "_=gamma_analysis_OBS(np.abs(m), w, res_paths['sim']) # Stores data: Absolute magnetization\n",
    "print(f\"Results saved at: {res_paths['sim']}\")"
   ]
  },
  {
   "cell_type": "markdown",
   "id": "0975e73c-b88e-43c4-bc8c-8f03619da4ba",
   "metadata": {},
   "source": [
    "-------------\n",
    "-------------\n",
    "# Analysis: Forward metrics\n",
    "> Note to user:\n",
    "> - This only works for small lattices. As this is just a demo, configurations for larger lattices (or different $\\beta$) are not provided and users have to generate reference configurations by themselves. Once configurations are available the pipeline below can be used.\n",
    "> - Ensure to unzip the configurations before running the code below.\n",
    "\n",
    "\n",
    "This sections includes metrics which require samples from the true distribution, e.g., $s\\sim p$ where $p$ is the target Boltzmann distribution.\n",
    "Such samples can be obtained with standard methods such as the Cluster method. For the sake of this demo, configs sampled with cluster method are stored in `data/config/Ising_data_nx16_beta0.4400000000_data1000000.dat`.\n",
    "\n",
    "The script `res_paths['sim_md']` will store:\n",
    "\n",
    "`Loss_rev, FreeEn_rev, ESS_rev, Loss_fwd, FreeEn_fwd, ESS_fwd, mode_dropping_est,  InternalEn, Absmag`\n",
    "\n",
    "The script `res_paths['cluster']` will store analysis performed on samples from Cluster method, i.e., $s\\sim p$:\n",
    "\n",
    "`Loss, FreeEn, ESS_rev, InternalEn, Absmag`\n"
   ]
  },
  {
   "cell_type": "code",
   "execution_count": 15,
   "id": "005731df-a09d-4a20-b0f5-58b27a7aa453",
   "metadata": {},
   "outputs": [],
   "source": [
    "ndat = 1000000\n",
    "path_ising = main_path + f'config/Ising_data_nx{model.Lf}_beta0.4400000000_data{ndat}.dat'"
   ]
  },
  {
   "cell_type": "code",
   "execution_count": 16,
   "id": "1190fcb9",
   "metadata": {},
   "outputs": [
    {
     "name": "stdout",
     "output_type": "stream",
     "text": [
      "✅ File '../data/config/Ising_data_nx8_beta0.4400000000_data1000000.dat' found. Continuing...\n"
     ]
    }
   ],
   "source": [
    "file_exists_or_unzip(path_ising,main_path + f'config')"
   ]
  },
  {
   "cell_type": "code",
   "execution_count": 17,
   "id": "e0e67ca9-7603-422e-ad35-9c313102d8a4",
   "metadata": {
    "pycharm": {
     "is_executing": true
    }
   },
   "outputs": [],
   "source": [
    "# Loads data for 16x16\n",
    "# N.B. This might take some time.\n",
    "data = np.genfromtxt(path_ising).reshape(-1, Lf, Lf)"
   ]
  },
  {
   "cell_type": "code",
   "execution_count": 18,
   "id": "bd610b06-1d9b-470c-9d5e-f4af3ad676c4",
   "metadata": {
    "pycharm": {
     "is_executing": true
    }
   },
   "outputs": [
    {
     "name": "stdout",
     "output_type": "stream",
     "text": [
      "Results saved at: ../data/results/8_0.44_2_3_16_6_32_[5, 3]_measuresCluster.log\n"
     ]
    }
   ],
   "source": [
    "cluster_analysis(data, ising_energy, beta, res_paths['cluster']) # U, tau |m|, tau |m|\n",
    "print(f\"Results saved at: {res_paths['cluster']}\")"
   ]
  },
  {
   "cell_type": "code",
   "execution_count": 19,
   "id": "eb480693-5a2a-4188-8c17-7a6700b41fc6",
   "metadata": {
    "pycharm": {
     "is_executing": true
    }
   },
   "outputs": [],
   "source": [
    "wf = model.sample_from_MCMC(data, 1000)"
   ]
  },
  {
   "cell_type": "code",
   "execution_count": 20,
   "id": "e62b5abf-1f37-4ddd-bc78-320de50c518e",
   "metadata": {
    "pycharm": {
     "is_executing": true
    }
   },
   "outputs": [
    {
     "name": "stdout",
     "output_type": "stream",
     "text": [
      "Results saved at: ../data/results/8_0.44_2_3_16_6_32_[5, 3]_measures_modedrop.log\n"
     ]
    }
   ],
   "source": [
    "gamma_analysis_modedrop(w, wf, res_paths['sim_md']) # Stores data: Loss, betaF, ESS, Floss, FbetaF, FESS, modedrop, U, absmag\n",
    "print(f\"Results saved at: {res_paths['sim_md']}\")"
   ]
  },
  {
   "cell_type": "markdown",
   "id": "031f75ad-397a-4db0-b08c-ff0108a0445d",
   "metadata": {},
   "source": [
    "-------------\n",
    "-------------\n",
    "# Independent Metropolis-Hastings\n",
    "\n",
    "The cells below run Neural MCMC using a Metropolis Hastings accept-reject steps to unbias the samples drawn from the model as proposed in [Nicoli et al. Phys. Rev. E (2020)](https://link.aps.org/accepted/10.1103/PhysRevE.101.023304). A cluster analysis is performed on the accepted samples and results are saved in `res_paths['mh']`."
   ]
  },
  {
   "cell_type": "code",
   "execution_count": 21,
   "id": "132d59a0-c66e-47dc-9faf-bb226aee5130",
   "metadata": {
    "pycharm": {
     "is_executing": true
    }
   },
   "outputs": [],
   "source": [
    "model.eval()"
   ]
  },
  {
   "cell_type": "code",
   "execution_count": 22,
   "id": "2fe86663-898e-485b-9079-acb71707f73c",
   "metadata": {
    "pycharm": {
     "is_executing": true
    }
   },
   "outputs": [],
   "source": [
    "ensemble=make_mcmc_ensemble(model,100, 1000,model.device)"
   ]
  },
  {
   "cell_type": "code",
   "execution_count": 23,
   "id": "0c75035f-d681-4f52-aabd-0ad27b6e277d",
   "metadata": {
    "pycharm": {
     "is_executing": true
    }
   },
   "outputs": [
    {
     "name": "stdout",
     "output_type": "stream",
     "text": [
      "Acceptance rate: 0.773\n"
     ]
    }
   ],
   "source": [
    "print(f\"Acceptance rate: {np.asarray(ensemble['accepted']).mean().item()}\")"
   ]
  },
  {
   "cell_type": "code",
   "execution_count": 24,
   "id": "73983d3d-13ee-42fc-9530-a050567953d3",
   "metadata": {
    "pycharm": {
     "is_executing": true
    }
   },
   "outputs": [
    {
     "name": "stdout",
     "output_type": "stream",
     "text": [
      "Results saved at: ../data/results/8_0.44_2_3_16_6_32_[5, 3]_measuresIMH.log\n"
     ]
    }
   ],
   "source": [
    "cluster_analysis(np.asarray(ensemble['x']).reshape((-1, Lf, Lf) ), model.energy, model.beta, res_paths['mh']) #U, tau |m|, tau |m|\n",
    "print(f\"Results saved at: {res_paths['mh']}\")    "
   ]
  },
  {
   "cell_type": "code",
   "execution_count": null,
   "id": "5264d986",
   "metadata": {},
   "outputs": [],
   "source": []
  }
 ],
 "metadata": {
  "kernelspec": {
   "display_name": ".venv-mlt",
   "language": "python",
   "name": ".venv-mlt"
  },
  "language_info": {
   "codemirror_mode": {
    "name": "ipython",
    "version": 3
   },
   "file_extension": ".py",
   "mimetype": "text/x-python",
   "name": "python",
   "nbconvert_exporter": "python",
   "pygments_lexer": "ipython3",
   "version": "3.9.6"
  }
 },
 "nbformat": 4,
 "nbformat_minor": 5
}
