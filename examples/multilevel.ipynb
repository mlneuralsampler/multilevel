{
 "cells": [
  {
   "cell_type": "code",
   "execution_count": 2,
   "id": "a9ec5a5e-acd7-4f2c-a50f-cf2bf24f5c73",
   "metadata": {},
   "outputs": [],
   "source": [
    "import os\n",
    "import pickle\n",
    "import matplotlib.pyplot as plt\n",
    "import sys\n",
    "import os\n",
    "\n",
    "sys.path.append(os.path.abspath(\"..\"))  # Ensure it points to your project root\n",
    "\n",
    "from van_code.nn import NeuralVANMultilevel_block_wise\n",
    "from van_code.ising import ising_energy,analytical_solution,local_ising_energy\n",
    "from van_code.montecarlo import *\n",
    "from van_code.utils import *\n",
    "from van_code.obs import Obs\n",
    "from unzip import file_exists_or_unzip\n"
   ]
  },
  {
   "cell_type": "code",
   "execution_count": 3,
   "id": "5c4569e9-4b9e-4e87-871e-93d83c0511da",
   "metadata": {},
   "outputs": [
    {
     "name": "stdout",
     "output_type": "stream",
     "text": [
      "You are using device=mps.\n"
     ]
    }
   ],
   "source": [
    "if torch.backends.mps.is_available():\n",
    "    device = torch.device(\"mps\")\n",
    "    default_dtype_torch=torch.float32\n",
    "elif torch.cuda.is_available():\n",
    "    device = 'cuda'\n",
    "else:\n",
    "    device = torch.device(\"cpu\")\n",
    "print(f'You are using device={device}.')"
   ]
  },
  {
   "cell_type": "markdown",
   "id": "8164be43-0322-4b8c-ae36-a9b0b0e20310",
   "metadata": {},
   "source": [
    "-------------\n",
    "-------------\n",
    "# Model and parameters\n",
    "Our multilevel architecture uses different blocks of Autoregressive neural networks which are based on the VAN architecture by [Wu et al. (2019)](https://journals.aps.org/prl/abstract/10.1103/PhysRevLett.122.080602)."
   ]
  },
  {
   "cell_type": "code",
   "execution_count": 4,
   "id": "a7f18c2f-e4e7-4a4d-81ab-153f60db5425",
   "metadata": {},
   "outputs": [],
   "source": [
    "# This cell defines important parameters for the simulation\n",
    "\n",
    "Lc=2 # defines the coarser lattice\n",
    "beta=0.44 # defines the beta value (inverse of the temperature)\n",
    "\n",
    "# VAN parameters\n",
    "net_depth = 3\n",
    "net_width= 16\n",
    "half_kernel_size =6\n",
    "\n",
    "# Conditional VAN parameters\n",
    "# The i-th element of the list correspond to the parameters associated to the i-th block in the multilevel\n",
    "\n",
    "hidden_size=[[32]] * 10 # Hidden size of each CondVAN\n",
    "kernel_size=[[5,3]] * 10  # Kernel of CondVAN\n",
    "\n",
    "#Elia: @Kim questo mi sa che e' da cambiare sistematicamente in \"nblocks\" \n",
    "nlevels = 2 # Defines the number of blocks (upsamling step) in the multilevel. Every block doubles the lattice. Example: if the coarser is 2x2 after 3 levels we have 16x16\n",
    "hb_last = True # Whether to use heatbath to sample unbiased configuration from the last ARNN"
   ]
  },
  {
   "cell_type": "code",
   "execution_count": 5,
   "id": "e6e338fe-3d49-412c-99be-d84c4f7d2cf6",
   "metadata": {},
   "outputs": [],
   "source": [
    "van_hyp={\n",
    "    'net_depth':net_depth,\n",
    "    'net_width': net_width,\n",
    "    'half_kernel_size':half_kernel_size,\n",
    "    'bias':False,'z2':False,\n",
    "    'res_block':True,\n",
    "    'x_hat_clip':False,\n",
    "    'final_conv':True,\n",
    "    'epsilon':1.e-8,\n",
    "    'device':device\n",
    "}\n",
    "\n",
    "block_net_hyp={\n",
    "    'hidden_size':hidden_size,\n",
    "    'kernel_size':kernel_size,\n",
    "    'epsilon':1e-7,\n",
    "    'level':0,\n",
    "    'device':device\n",
    "}"
   ]
  },
  {
   "cell_type": "code",
   "execution_count": 33,
   "id": "994f246c-3856-4c65-8e2d-106364f5bb4e",
   "metadata": {},
   "outputs": [
    {
     "name": "stdout",
     "output_type": "stream",
     "text": [
      "\n",
      "\n",
      "===============================================================================================================\n",
      "\n",
      "Starting from coarser lattice of shape 2x2 and sample finer lattices 8x8 using 2 multilevel steps.\n",
      "\n",
      "\n",
      "===============================================================================================================\n",
      "\n"
     ]
    }
   ],
   "source": [
    "# Building the model\n",
    "\n",
    "model = NeuralVANMultilevel_block_wise(\n",
    "    Lc,\n",
    "    van_hyp,\n",
    "    block_net_hyp,\n",
    "    nlevels,\n",
    "    hb_last,\n",
    "    ising_energy,\n",
    "    local_ising_energy,\n",
    "    beta,\n",
    "    device\n",
    ")\n",
    "Lf = model.Lf\n",
    "#print(model)\n",
    "\n",
    "print(f'\\n\\n===============================================================================================================\\n')\n",
    "print(f'Starting from coarser lattice of shape {Lc}x{Lc} and sample finer lattices {model.Lf}x{model.Lf} using {nlevels} multilevel steps.')\n",
    "print(f'\\n\\n===============================================================================================================\\n')"
   ]
  },
  {
   "cell_type": "code",
   "execution_count": 13,
   "id": "6989f290-fcf4-42e6-8914-e7b658d58175",
   "metadata": {},
   "outputs": [],
   "source": [
    "# Define default parameters for optimizer and scheduler\n",
    "\n",
    "optimizer = torch.optim.Adam(model.parameters(), lr=0.0005)\n",
    "scheduler = torch.optim.lr_scheduler.ReduceLROnPlateau(optimizer, 'min', factor=0.92, patience=1000, min_lr=1e-07)\n",
    "\n",
    "# Define additional training parameters. Arbitrary values can be chosen\n",
    "# the values chosen below are optimized for the purpose of this demo.\n",
    "\n",
    "bs = 16\n",
    "nepochs = 500\n",
    "print_freq = 10\n",
    "lr = 0.001"
   ]
  },
  {
   "cell_type": "code",
   "execution_count": 14,
   "id": "6d9a949d-4642-4a59-a987-2282d0a12854",
   "metadata": {},
   "outputs": [],
   "source": [
    "# Choose main path to store model and logs\n",
    "main_path=''+'../data/'\n",
    "\n",
    "# Creates model identifier with corresponding params\n",
    "# '/Lf'+'_beta'+'_nblocks'+'_PCNNdepth'+'_width'+'_half_ker'+'_CCNNhs'+'_ks'\n",
    "\n",
    "model_id = f'{str(model.Lf)}_{str(beta)}_{str(nlevels)}_{str(net_depth)}_{str(net_width)}_{str(half_kernel_size)}_{str(hidden_size[0][0])}_{str(kernel_size[0])}'\n",
    "\n",
    "lc_path = main_path + 'training/' + model_id\n",
    "h_path = lc_path + '_history.log' # Path to Training history\n",
    "\n",
    "## Dict of paths to store different results\n",
    "\n",
    "res_paths = {\n",
    "    'weights': main_path+ 'model/'+ model_id +'.pth', # models' weights\n",
    "    'sim' : main_path + 'results/' + model_id + '_measures.log',  # Simulations logging\n",
    "    'sim_md' : main_path + 'results/' + model_id + '_measures_modedrop.log',  # Simulations mode dropping\n",
    "    'cluster' : main_path + 'results/' + model_id + '_measuresCluster.log',  # Simulations\n",
    "    'dict_hist' : lc_path + '_historyDict.pkl',  # dictionary learning curve\n",
    "    'mh' : main_path+'results/'+ model_id +'_measuresIMH.log' # neural MCMC sampling results\n",
    "}\n"
   ]
  },
  {
   "cell_type": "markdown",
   "id": "eee793ae-1622-4070-8627-ca9c012f7914",
   "metadata": {},
   "source": [
    "-------------\n",
    "-------------\n",
    "# Training"
   ]
  },
  {
   "cell_type": "markdown",
   "id": "f4364860",
   "metadata": {},
   "source": [
    "### Let's train a RiGCS model by recursevily training coarser models:"
   ]
  },
  {
   "cell_type": "code",
   "execution_count": 15,
   "id": "ea716074",
   "metadata": {},
   "outputs": [],
   "source": [
    "res_paths['weights']= 'pd.pth'"
   ]
  },
  {
   "cell_type": "code",
   "execution_count": 16,
   "id": "99a4067d",
   "metadata": {},
   "outputs": [
    {
     "name": "stderr",
     "output_type": "stream",
     "text": [
      "/Users/kimnicoli/Projects/multilevelTest/van_code/nn.py:713: FutureWarning: `torch.cuda.amp.GradScaler(args...)` is deprecated. Please use `torch.amp.GradScaler('cuda', args...)` instead.\n",
      "  scaler = torch.cuda.amp.GradScaler() # this function will be deprecated. When this happens use function below.\n",
      "/Users/kimnicoli/Projects/multilevelTest/.venv/lib/python3.12/site-packages/torch/amp/grad_scaler.py:132: UserWarning: torch.cuda.amp.GradScaler is enabled, but CUDA is not available.  Disabling.\n",
      "  warnings.warn(\n"
     ]
    },
    {
     "name": "stdout",
     "output_type": "stream",
     "text": [
      "Training VAN layers...\n",
      "step: 10, loss: -0.05170673131942749, w_mean: -2.3338639736175537, w_var: 4.638050556182861, ess: 0.168049156665802, free_en: -4.289906024932861, log_prob: -2.7738637924194336\n",
      "step: 20, loss: -0.05901855230331421, w_mean: -3.624880075454712, w_var: 2.3489487171173096, ess: 0.29934269189834595, free_en: -4.902406692504883, log_prob: -2.744880199432373\n",
      "step: 30, loss: -0.12782669067382812, w_mean: -2.775432825088501, w_var: 3.0229082107543945, ess: 0.18218475580215454, free_en: -4.236964225769043, log_prob: -2.775432825088501\n",
      "step: 40, loss: -0.13017049431800842, w_mean: -2.8197357654571533, w_var: 1.3512506484985352, ess: 0.1700136810541153, free_en: -3.6168198585510254, log_prob: -2.8197360038757324\n",
      "step: 50, loss: -0.5987681746482849, w_mean: -2.411957025527954, w_var: 3.317906379699707, ess: 0.21466876566410065, free_en: -3.7939085960388184, log_prob: -2.851957082748413\n",
      "step: 60, loss: -0.593107283115387, w_mean: -3.7598235607147217, w_var: 1.2537487745285034, ess: 0.5338101387023926, free_en: -4.3115057945251465, log_prob: -2.439823627471924\n",
      "step: 70, loss: -0.9222565293312073, w_mean: -3.97802472114563, w_var: 1.1595925092697144, ess: 0.7652071714401245, free_en: -4.335721015930176, log_prob: -1.998024582862854\n",
      "step: 80, loss: -0.47753047943115234, w_mean: -4.111672401428223, w_var: 0.4699734151363373, ess: 0.8335821628570557, free_en: -4.278493881225586, log_prob: -1.9116721153259277\n",
      "step: 90, loss: -0.05597996711730957, w_mean: -4.148469924926758, w_var: 0.3843584656715393, ess: 0.6219655275344849, free_en: -4.343649387359619, log_prob: -2.1684699058532715\n",
      "step: 100, loss: -0.32141366600990295, w_mean: -4.198250770568848, w_var: 0.09896788746118546, ess: 0.9478976726531982, free_en: -4.237310886383057, log_prob: -1.3382508754730225\n",
      "step: 110, loss: -0.02757377363741398, w_mean: -4.3401384353637695, w_var: 0.009661384858191013, ess: 0.9926874041557312, free_en: -4.344350814819336, log_prob: -1.260138750076294\n",
      "step: 120, loss: -0.025856299325823784, w_mean: -4.36170768737793, w_var: 0.0011612768284976482, ess: 0.9990191459655762, free_en: -4.362234115600586, log_prob: -1.0617080926895142\n",
      "step: 130, loss: -0.20813629031181335, w_mean: -4.269698143005371, w_var: 0.050465818494558334, ess: 0.9732680320739746, free_en: -4.289350509643555, log_prob: -1.4096977710723877\n",
      "step: 140, loss: 0.003529647830873728, w_mean: -4.31951904296875, w_var: 0.046980779618024826, ess: 0.9515286684036255, free_en: -4.342313289642334, log_prob: -1.8995189666748047\n",
      "step: 150, loss: 0.13088831305503845, w_mean: -4.382664680480957, w_var: 0.01891874335706234, ess: 0.9720936417579651, free_en: -4.393090724945068, log_prob: -1.0826650857925415\n",
      "step: 160, loss: -0.14558857679367065, w_mean: -4.310450553894043, w_var: 0.025939539074897766, ess: 0.9842382669448853, free_en: -4.321020126342773, log_prob: -1.2304505109786987\n",
      "step: 170, loss: 0.06542510539293289, w_mean: -4.411779880523682, w_var: 0.02683543972671032, ess: 0.9674933552742004, free_en: -4.425507068634033, log_prob: -1.9917800426483154\n",
      "step: 180, loss: -0.17330579459667206, w_mean: -4.332184791564941, w_var: 0.03678296133875847, ess: 0.9788381457328796, free_en: -4.346933364868164, log_prob: -1.2521851062774658\n",
      "step: 190, loss: -0.060823000967502594, w_mean: -4.372802734375, w_var: 0.006848793942481279, ess: 0.9951252937316895, free_en: -4.375735282897949, log_prob: -1.0728023052215576\n",
      "step: 200, loss: -0.0002363375388085842, w_mean: -4.383374214172363, w_var: 0.00023377548495773226, ess: 0.999784529209137, free_en: -4.38348388671875, log_prob: -1.0833745002746582\n",
      "step: 210, loss: 0.017019173130393028, w_mean: -4.377325057983398, w_var: 0.00961624551564455, ess: 0.9903262853622437, free_en: -4.38192892074585, log_prob: -1.2973254919052124\n",
      "step: 220, loss: -0.12880802154541016, w_mean: -4.322094917297363, w_var: 0.015756916254758835, ess: 0.9886758327484131, free_en: -4.328868865966797, log_prob: -1.9020947217941284\n",
      "step: 230, loss: -0.03063523955643177, w_mean: -4.368783950805664, w_var: 0.0018820754485204816, ess: 0.9984162449836731, free_en: -4.369635581970215, log_prob: -1.0687839984893799\n",
      "step: 240, loss: -0.014353516511619091, w_mean: -4.363037109375, w_var: 0.0009617125615477562, ess: 0.9991125464439392, free_en: -4.363485336303711, log_prob: -1.5030367374420166\n",
      "step: 250, loss: -0.045807696878910065, w_mean: -4.372511386871338, w_var: 0.0038439601194113493, ess: 0.9970337152481079, free_en: -4.37420129776001, log_prob: -1.0725111961364746\n",
      "step: 260, loss: 0.08343243598937988, w_mean: -4.413188934326172, w_var: 0.0086625125259161, ess: 0.989062488079071, free_en: -4.417689800262451, log_prob: -1.1131891012191772\n",
      "step: 270, loss: 0.09491933882236481, w_mean: -4.413159370422363, w_var: 0.006441065575927496, ess: 0.9929449558258057, free_en: -4.416347026824951, log_prob: -1.33315908908844\n",
      "step: 280, loss: -0.020611602813005447, w_mean: -4.361461639404297, w_var: 0.0009494480327703059, ess: 0.9991611242294312, free_en: -4.361898422241211, log_prob: -1.0614616870880127\n",
      "step: 290, loss: -0.015376086346805096, w_mean: -4.366997718811035, w_var: 0.0005793315940536559, ess: 0.9994746446609497, free_en: -4.367266654968262, log_prob: -1.0669976472854614\n",
      "step: 300, loss: -0.029779396951198578, w_mean: -4.365942001342773, w_var: 0.024591686204075813, ess: 0.9781615734100342, free_en: -4.377295970916748, log_prob: -1.9459419250488281\n",
      "step: 310, loss: 0.16951695084571838, w_mean: -4.43256950378418, w_var: 0.042963121086359024, ess: 0.9431096315383911, free_en: -4.455440521240234, log_prob: -1.5725696086883545\n",
      "step: 320, loss: -0.10469019412994385, w_mean: -4.333636283874512, w_var: 0.011091982014477253, ess: 0.9916701912879944, free_en: -4.338479042053223, log_prob: -1.4736363887786865\n",
      "step: 330, loss: -0.04666467756032944, w_mean: -4.362103462219238, w_var: 0.0041326358914375305, ess: 0.9967979192733765, free_en: -4.363923072814941, log_prob: -1.0621036291122437\n",
      "step: 340, loss: -0.057726453989744186, w_mean: -4.353632926940918, w_var: 0.0032397860195487738, ess: 0.9972628951072693, free_en: -4.355100631713867, log_prob: -1.2736330032348633\n",
      "step: 350, loss: 0.03635764867067337, w_mean: -4.375243186950684, w_var: 0.010960398241877556, ess: 0.9877296686172485, free_en: -4.380690574645996, log_prob: -1.2952427864074707\n",
      "step: 360, loss: 0.24079008400440216, w_mean: -4.459229469299316, w_var: 0.03681587427854538, ess: 0.9470446705818176, free_en: -4.479501724243164, log_prob: -1.3792297840118408\n",
      "step: 370, loss: 0.03273104131221771, w_mean: -4.399446487426758, w_var: 0.030245888978242874, ess: 0.9648590087890625, free_en: -4.414636611938477, log_prob: -1.5394463539123535\n",
      "step: 380, loss: -0.08345714211463928, w_mean: -4.3463358879089355, w_var: 0.005048115272074938, ess: 0.9957442283630371, free_en: -4.348623275756836, log_prob: -1.4863359928131104\n",
      "step: 390, loss: -0.007209334056824446, w_mean: -4.3560285568237305, w_var: 0.0006626214017160237, ess: 0.9993860125541687, free_en: -4.356337547302246, log_prob: -1.2760285139083862\n",
      "step: 400, loss: 0.06538109481334686, w_mean: -4.4021196365356445, w_var: 0.01745673455297947, ess: 0.9810062050819397, free_en: -4.410711288452148, log_prob: -1.5421199798583984\n",
      "step: 410, loss: -0.03166325390338898, w_mean: -4.378134250640869, w_var: 0.0022612588945776224, ess: 0.9980725646018982, free_en: -4.379161357879639, log_prob: -1.078134536743164\n",
      "step: 420, loss: -0.13356678187847137, w_mean: -4.333876132965088, w_var: 0.01408297661691904, ess: 0.9893917441368103, free_en: -4.340034484863281, log_prob: -1.4738762378692627\n",
      "step: 430, loss: 0.2924385666847229, w_mean: -4.470189094543457, w_var: 0.05889048054814339, ess: 0.9231067299842834, free_en: -4.501829624176025, log_prob: -2.050189256668091\n",
      "step: 440, loss: 0.0003266761777922511, w_mean: -4.376426696777344, w_var: 0.00034861956373788416, ess: 0.9996748566627502, free_en: -4.376589775085449, log_prob: -0.8564266562461853\n",
      "step: 450, loss: 0.026784747838974, w_mean: -4.362784385681152, w_var: 0.0037860176526010036, ess: 0.9962372183799744, free_en: -4.364593505859375, log_prob: -1.502784252166748\n",
      "step: 460, loss: -0.03368767723441124, w_mean: -4.341280937194824, w_var: 0.006009106989949942, ess: 0.9949933886528015, free_en: -4.343991279602051, log_prob: -1.7012807130813599\n"
     ]
    },
    {
     "name": "stdout",
     "output_type": "stream",
     "text": [
      "step: 470, loss: -0.012341734953224659, w_mean: -4.35828971862793, w_var: 0.0011177086271345615, ess: 0.9990124702453613, free_en: -4.358802795410156, log_prob: -1.2782894372940063\n",
      "step: 480, loss: -0.013423032127320766, w_mean: -4.351743698120117, w_var: 0.0011274368735030293, ess: 0.9989772439002991, free_en: -4.352266311645508, log_prob: -1.711743712425232\n",
      "step: 490, loss: -0.006073173135519028, w_mean: -4.359334945678711, w_var: 0.0026217070408165455, ess: 0.9975073337554932, free_en: -4.360569477081299, log_prob: -1.4993352890014648\n",
      "step: 500, loss: -0.05056461691856384, w_mean: -4.365924835205078, w_var: 0.0047049266286194324, ess: 0.9964491128921509, free_en: -4.367978096008301, log_prob: -1.065925121307373\n",
      "Total time taken : 6.704712867736816\n",
      "Training Started at level_ 1\n"
     ]
    },
    {
     "name": "stderr",
     "output_type": "stream",
     "text": [
      "/Users/kimnicoli/Projects/multilevelTest/van_code/nn.py:774: FutureWarning: `torch.cuda.amp.autocast(args...)` is deprecated. Please use `torch.amp.autocast('cuda', args...)` instead.\n",
      "  with torch.cuda.amp.autocast(): #this function will be deprecated. If this happens use function below.\n",
      "/Users/kimnicoli/Projects/multilevelTest/.venv/lib/python3.12/site-packages/torch/amp/autocast_mode.py:266: UserWarning: User provided device_type of 'cuda', but CUDA is not available. Disabling\n",
      "  warnings.warn(\n"
     ]
    },
    {
     "name": "stdout",
     "output_type": "stream",
     "text": [
      "step: 10, loss: -1.7831124067306519, w_mean: -13.797053337097168, w_var: 1.8983842134475708, ess: 0.2013511210680008, free_en: -14.928766250610352, log_prob: -8.737052917480469\n",
      "step: 20, loss: -2.98883056640625, w_mean: -14.165549278259277, w_var: 2.75931978225708, ess: 0.14229322969913483, free_en: -15.894775390625, log_prob: -8.885549545288086\n",
      "step: 30, loss: -1.3612111806869507, w_mean: -14.060089111328125, w_var: 1.6249300241470337, ess: 0.30047962069511414, free_en: -14.951824188232422, log_prob: -8.89008903503418\n",
      "step: 40, loss: -1.6262030601501465, w_mean: -14.20709228515625, w_var: 1.2392374277114868, ess: 0.18878281116485596, free_en: -15.049522399902344, log_prob: -8.597092628479004\n",
      "step: 50, loss: -0.15036052465438843, w_mean: -14.307791709899902, w_var: 0.7565833330154419, ess: 0.4531204402446747, free_en: -14.708414077758789, log_prob: -9.137792587280273\n",
      "step: 60, loss: -1.4477825164794922, w_mean: -14.77917766571045, w_var: 0.878790557384491, ess: 0.4010903835296631, free_en: -15.273773193359375, log_prob: -7.079178333282471\n",
      "step: 70, loss: -1.7971460819244385, w_mean: -14.888729095458984, w_var: 0.7275956273078918, ess: 0.629357099533081, free_en: -15.20997428894043, log_prob: -7.4087300300598145\n",
      "step: 80, loss: -0.6360300779342651, w_mean: -15.316055297851562, w_var: 0.357296884059906, ess: 0.8557842969894409, free_en: -15.447456359863281, log_prob: -4.096055030822754\n",
      "step: 90, loss: -0.9536803364753723, w_mean: -15.155755996704102, w_var: 0.3670402765274048, ess: 0.8287492990493774, free_en: -15.297178268432617, log_prob: -5.145756721496582\n",
      "step: 100, loss: 0.3261685371398926, w_mean: -15.49420166015625, w_var: 0.02837827242910862, ess: 0.9712596535682678, free_en: -15.507957458496094, log_prob: -4.274201393127441\n",
      "step: 110, loss: 0.34296268224716187, w_mean: -15.571932792663574, w_var: 0.1356925219297409, ess: 0.8118367195129395, free_en: -15.649206161499023, log_prob: -4.021933555603027\n",
      "step: 120, loss: -0.23130840063095093, w_mean: -15.50536823272705, w_var: 0.07784250378608704, ess: 0.9247376918792725, free_en: -15.542549133300781, log_prob: -3.29536771774292\n",
      "step: 130, loss: -0.28568631410598755, w_mean: -15.464558601379395, w_var: 0.11441713571548462, ess: 0.8842677474021912, free_en: -15.519609451293945, log_prob: -4.574558258056641\n",
      "step: 140, loss: -0.04302594065666199, w_mean: -15.407392501831055, w_var: 0.0624084547162056, ess: 0.956427812576294, free_en: -15.434040069580078, log_prob: -5.507392883300781\n",
      "step: 150, loss: -0.026459768414497375, w_mean: -15.460563659667969, w_var: 0.11322496086359024, ess: 0.805273175239563, free_en: -15.529518127441406, log_prob: -4.790563583374023\n",
      "step: 160, loss: -0.5782153606414795, w_mean: -15.382122039794922, w_var: 0.15397463738918304, ess: 0.8234456777572632, free_en: -15.46043586730957, log_prob: -4.932122230529785\n",
      "step: 170, loss: -0.6602604985237122, w_mean: -15.370260238647461, w_var: 0.069606713950634, ess: 0.9610653519630432, free_en: -15.398025512695312, log_prob: -4.480260848999023\n",
      "step: 180, loss: 0.27415773272514343, w_mean: -15.521442413330078, w_var: 0.04721173644065857, ess: 0.9469236731529236, free_en: -15.544900894165039, log_prob: -3.861443042755127\n",
      "step: 190, loss: -0.0012873411178588867, w_mean: -15.48190689086914, w_var: 0.09529299288988113, ess: 0.8343480229377747, free_en: -15.53951644897461, log_prob: -4.481907844543457\n",
      "step: 200, loss: 0.1367110013961792, w_mean: -15.507391929626465, w_var: 0.1356857717037201, ess: 0.8708109259605408, free_en: -15.573051452636719, log_prob: -5.607392311096191\n",
      "step: 210, loss: -0.2827771306037903, w_mean: -15.436563491821289, w_var: 0.06782767176628113, ess: 0.9492745399475098, free_en: -15.465768814086914, log_prob: -5.096564769744873\n",
      "step: 220, loss: 0.1834089159965515, w_mean: -15.527800559997559, w_var: 0.04651464521884918, ess: 0.9482792019844055, free_en: -15.551025390625, log_prob: -3.317800521850586\n",
      "step: 230, loss: -0.5377873182296753, w_mean: -15.392189025878906, w_var: 0.07969614118337631, ess: 0.9478922486305237, free_en: -15.425699234008789, log_prob: -4.502189636230469\n",
      "step: 240, loss: 0.18455982208251953, w_mean: -15.492647171020508, w_var: 0.10097189247608185, ess: 0.8584621548652649, free_en: -15.547399520874023, log_prob: -5.152647018432617\n",
      "step: 250, loss: -0.4873218536376953, w_mean: -15.42995834350586, w_var: 0.02085244096815586, ess: 0.9848777055740356, free_en: -15.43896484375, log_prob: -3.879958152770996\n",
      "step: 260, loss: 0.028576277196407318, w_mean: -15.559250831604004, w_var: 0.024197934195399284, ess: 0.9716746807098389, free_en: -15.571489334106445, log_prob: -3.459251642227173\n",
      "step: 270, loss: -0.3915799558162689, w_mean: -15.40234661102295, w_var: 0.12055803090333939, ess: 0.9145117402076721, free_en: -15.454158782958984, log_prob: -5.39234733581543\n",
      "step: 280, loss: 0.14829669892787933, w_mean: -15.45038890838623, w_var: 0.03028985485434532, ess: 0.976006269454956, free_en: -15.463823318481445, log_prob: -5.220388889312744\n",
      "step: 290, loss: 0.21843838691711426, w_mean: -15.51065444946289, w_var: 0.049265798181295395, ess: 0.9117633700370789, free_en: -15.540262222290039, log_prob: -2.5306549072265625\n",
      "step: 300, loss: 0.0618148148059845, w_mean: -15.520801544189453, w_var: 0.030886584892868996, ess: 0.9594828486442566, free_en: -15.537086486816406, log_prob: -4.190802574157715\n",
      "step: 310, loss: 0.0566573366522789, w_mean: -15.508066177368164, w_var: 0.01820521429181099, ess: 0.9828885197639465, free_en: -15.516630172729492, log_prob: -4.398066520690918\n",
      "step: 320, loss: -0.029970720410346985, w_mean: -15.516267776489258, w_var: 0.01754261739552021, ess: 0.9834473133087158, free_en: -15.524530410766602, log_prob: -3.966268539428711\n",
      "step: 330, loss: -0.8300847411155701, w_mean: -15.416842460632324, w_var: 0.12066303938627243, ess: 0.901670515537262, free_en: -15.470800399780273, log_prob: -5.296842575073242\n",
      "step: 340, loss: -0.2085316777229309, w_mean: -15.48750114440918, w_var: 0.08547224849462509, ess: 0.9254010915756226, free_en: -15.527233123779297, log_prob: -6.467501640319824\n",
      "step: 350, loss: 0.3095325827598572, w_mean: -15.560285568237305, w_var: 0.08288519084453583, ess: 0.8689923882484436, free_en: -15.608526229858398, log_prob: -3.6802854537963867\n",
      "step: 360, loss: -0.14046943187713623, w_mean: -15.507331848144531, w_var: 0.10795365273952484, ess: 0.8943431973457336, free_en: -15.559823989868164, log_prob: -5.827332496643066\n",
      "step: 370, loss: -0.3995715081691742, w_mean: -15.408562660217285, w_var: 0.06738370656967163, ess: 0.9631866812705994, free_en: -15.435026168823242, log_prob: -5.178563117980957\n",
      "step: 380, loss: -0.11851449310779572, w_mean: -15.434355735778809, w_var: 0.018647940829396248, ess: 0.987142026424408, free_en: -15.442241668701172, log_prob: -3.2243564128875732\n",
      "step: 390, loss: 0.18383529782295227, w_mean: -15.480916023254395, w_var: 0.02738490328192711, ess: 0.9652833342552185, free_en: -15.495199203491211, log_prob: -5.250916004180908\n",
      "step: 400, loss: -0.38501203060150146, w_mean: -15.52977466583252, w_var: 0.06854423135519028, ess: 0.9348675608634949, free_en: -15.562543869018555, log_prob: -7.2797746658325195\n",
      "step: 410, loss: -0.6130163669586182, w_mean: -15.36301040649414, w_var: 0.09692253917455673, ess: 0.932449221611023, free_en: -15.404407501220703, log_prob: -5.573009490966797\n",
      "step: 420, loss: 0.11474819481372833, w_mean: -15.47569465637207, w_var: 0.030372515320777893, ess: 0.9727502465248108, free_en: -15.489665985107422, log_prob: -5.025694847106934\n",
      "step: 430, loss: 0.04658001661300659, w_mean: -15.439435005187988, w_var: 0.014829779043793678, ess: 0.9846109747886658, free_en: -15.44664192199707, log_prob: -4.4394354820251465\n",
      "step: 440, loss: -0.12277726083993912, w_mean: -15.469184875488281, w_var: 0.023192310705780983, ess: 0.9836349487304688, free_en: -15.479082107543945, log_prob: -3.699185371398926\n",
      "step: 450, loss: -0.32929494976997375, w_mean: -15.47354507446289, w_var: 0.06652498245239258, ess: 0.9411365389823914, free_en: -15.503746032714844, log_prob: -4.253544807434082\n",
      "step: 460, loss: -0.16150428354740143, w_mean: -15.491584777832031, w_var: 0.056738849729299545, ess: 0.963322639465332, free_en: -15.514766693115234, log_prob: -3.501585006713867\n"
     ]
    },
    {
     "name": "stdout",
     "output_type": "stream",
     "text": [
      "step: 470, loss: -0.15761440992355347, w_mean: -15.442160606384277, w_var: 0.015268861316144466, ess: 0.9879029989242554, free_en: -15.448928833007812, log_prob: -3.782160758972168\n",
      "step: 480, loss: 0.03596198558807373, w_mean: -15.473968505859375, w_var: 0.04172760993242264, ess: 0.9579468369483948, free_en: -15.494138717651367, log_prob: -5.463968753814697\n",
      "step: 490, loss: -0.41038978099823, w_mean: -15.419544219970703, w_var: 0.03964363411068916, ess: 0.9743954539299011, free_en: -15.43600845336914, log_prob: -5.079545021057129\n",
      "step: 500, loss: -0.5721133947372437, w_mean: -15.4365816116333, w_var: 0.14006555080413818, ess: 0.8963993787765503, free_en: -15.498186111450195, log_prob: -4.546582221984863\n",
      "Total time taken : 14.638154983520508\n",
      "Training Started at level_ 2\n",
      "step: 10, loss: -0.8262510299682617, w_mean: -54.63922882080078, w_var: 2.9052071571350098, ess: 0.23795658349990845, free_en: -55.798377990722656, log_prob: -37.47923278808594\n",
      "step: 20, loss: -5.047593116760254, w_mean: -55.636802673339844, w_var: 8.677389144897461, ess: 0.09322140365839005, free_en: -59.20386505126953, log_prob: -36.166805267333984\n",
      "step: 30, loss: -2.16428279876709, w_mean: -56.257301330566406, w_var: 2.8881397247314453, ess: 0.4584144353866577, free_en: -57.22333526611328, log_prob: -35.79730224609375\n",
      "step: 40, loss: -3.8382081985473633, w_mean: -57.230743408203125, w_var: 2.3073036670684814, ess: 0.31125974655151367, free_en: -58.175048828125, log_prob: -34.350738525390625\n",
      "step: 50, loss: -12.007840156555176, w_mean: -57.909393310546875, w_var: 5.786653995513916, ess: 0.06366952508687973, free_en: -62.713417053222656, log_prob: -33.26939010620117\n",
      "step: 60, loss: -15.155374526977539, w_mean: -58.6839485168457, w_var: 4.5625200271606445, ess: 0.07225167751312256, free_en: -61.93518829345703, log_prob: -28.873947143554688\n",
      "step: 70, loss: -9.456031799316406, w_mean: -58.941673278808594, w_var: 3.2538692951202393, ess: 0.25787609815597534, free_en: -60.164405822753906, log_prob: -27.261672973632812\n",
      "step: 80, loss: -7.866621971130371, w_mean: -59.5578498840332, w_var: 1.5888350009918213, ess: 0.3676416575908661, free_en: -60.21876525878906, log_prob: -21.167848587036133\n",
      "step: 90, loss: -5.340627670288086, w_mean: -59.25111389160156, w_var: 0.8903017640113831, ess: 0.5176910161972046, free_en: -59.669403076171875, log_prob: -22.621116638183594\n",
      "step: 100, loss: -0.1925492286682129, w_mean: -59.85306167602539, w_var: 0.3936443030834198, ess: 0.707718551158905, free_en: -60.04210662841797, log_prob: -19.813064575195312\n",
      "step: 110, loss: 1.2953014373779297, w_mean: -60.15885543823242, w_var: 0.3610956370830536, ess: 0.695026159286499, free_en: -60.34120178222656, log_prob: -15.058854103088379\n",
      "step: 120, loss: 0.6096508502960205, w_mean: -59.89374923706055, w_var: 0.5347549915313721, ess: 0.6817755699157715, free_en: -60.135040283203125, log_prob: -18.863746643066406\n",
      "step: 130, loss: -2.346646308898926, w_mean: -59.72960662841797, w_var: 0.3969220221042633, ess: 0.7856294512748718, free_en: -59.883934020996094, log_prob: -22.989606857299805\n",
      "step: 140, loss: 0.11036455631256104, w_mean: -60.289039611816406, w_var: 0.14975835382938385, ess: 0.8525649905204773, free_en: -60.36414337158203, log_prob: -18.489042282104492\n",
      "step: 150, loss: -1.2645587921142578, w_mean: -59.9482421875, w_var: 0.3319314122200012, ess: 0.8220019936561584, free_en: -60.07904052734375, log_prob: -22.988243103027344\n",
      "step: 160, loss: -1.3939175605773926, w_mean: -59.9019660949707, w_var: 0.20038801431655884, ess: 0.852155327796936, free_en: -59.9906005859375, log_prob: -21.731964111328125\n",
      "step: 170, loss: -0.840064287185669, w_mean: -59.815425872802734, w_var: 0.06586705893278122, ess: 0.9468188881874084, free_en: -59.84519958496094, log_prob: -17.02542495727539\n",
      "step: 180, loss: -0.7233250141143799, w_mean: -60.01576232910156, w_var: 0.2911517918109894, ess: 0.7202029228210449, free_en: -60.16735076904297, log_prob: -21.295761108398438\n",
      "step: 190, loss: 0.8539050221443176, w_mean: -60.128379821777344, w_var: 0.07685530930757523, ess: 0.9394077062606812, free_en: -60.16289520263672, log_prob: -20.308380126953125\n",
      "step: 200, loss: 0.9262938499450684, w_mean: -60.06792068481445, w_var: 0.23709818720817566, ess: 0.8223720788955688, free_en: -60.17573547363281, log_prob: -22.447921752929688\n",
      "step: 210, loss: -2.5741701126098633, w_mean: -59.91139221191406, w_var: 0.2405773103237152, ess: 0.81343013048172, free_en: -60.020973205566406, log_prob: -18.661388397216797\n",
      "step: 220, loss: 0.22629117965698242, w_mean: -59.91999053955078, w_var: 0.1471780240535736, ess: 0.851232647895813, free_en: -59.993324279785156, log_prob: -21.199989318847656\n",
      "step: 230, loss: -0.5730487704277039, w_mean: -59.95756912231445, w_var: 0.2256762981414795, ess: 0.8935690522193909, free_en: -60.042091369628906, log_prob: -19.147571563720703\n",
      "step: 240, loss: -2.757528066635132, w_mean: -59.90855407714844, w_var: 0.348481684923172, ess: 0.7888427376747131, free_en: -60.051918029785156, log_prob: -20.30855369567871\n",
      "step: 250, loss: -0.5477321743965149, w_mean: -59.882720947265625, w_var: 0.15268054604530334, ess: 0.8568622469902039, free_en: -59.95526123046875, log_prob: -17.64272117614746\n",
      "step: 260, loss: -1.8838472366333008, w_mean: -59.86558532714844, w_var: 0.145265594124794, ess: 0.9019457697868347, free_en: -59.92793273925781, log_prob: -17.51558494567871\n",
      "step: 270, loss: 1.5838816165924072, w_mean: -60.20365905761719, w_var: 0.29987165331840515, ess: 0.7561667561531067, free_en: -60.348793029785156, log_prob: -17.30366325378418\n",
      "step: 280, loss: -1.7827770709991455, w_mean: -59.90697479248047, w_var: 0.24157339334487915, ess: 0.9036815166473389, free_en: -59.99114227294922, log_prob: -15.466975212097168\n",
      "step: 290, loss: -0.5595300793647766, w_mean: -60.011348724365234, w_var: 0.19815979897975922, ess: 0.7937629818916321, free_en: -60.11143493652344, log_prob: -17.551347732543945\n",
      "step: 300, loss: -2.2468671798706055, w_mean: -59.86200714111328, w_var: 0.1809636652469635, ess: 0.8970253467559814, free_en: -59.93437194824219, log_prob: -18.17200469970703\n",
      "step: 310, loss: 0.8350566625595093, w_mean: -59.97032165527344, w_var: 0.1305798888206482, ess: 0.8587208986282349, free_en: -60.03759765625, log_prob: -14.320322036743164\n",
      "step: 320, loss: -0.2527158856391907, w_mean: -59.92173767089844, w_var: 0.05546930804848671, ess: 0.9541575312614441, free_en: -59.946746826171875, log_prob: -16.801740646362305\n",
      "step: 330, loss: -0.8497070074081421, w_mean: -60.06780242919922, w_var: 0.10631317645311356, ess: 0.910963773727417, free_en: -60.11692810058594, log_prob: -21.897802352905273\n",
      "step: 340, loss: 0.3026407063007355, w_mean: -59.96565246582031, w_var: 0.10643032938241959, ess: 0.8615821003913879, free_en: -60.02355194091797, log_prob: -13.655649185180664\n",
      "step: 350, loss: 0.6686425805091858, w_mean: -59.99537658691406, w_var: 0.05369153991341591, ess: 0.9530735015869141, free_en: -60.02020263671875, log_prob: -14.675376892089844\n",
      "step: 360, loss: 1.4209249019622803, w_mean: -60.07832336425781, w_var: 0.1487833857536316, ess: 0.8618977069854736, free_en: -60.15001678466797, log_prob: -16.62832260131836\n",
      "step: 370, loss: 0.10607457160949707, w_mean: -60.13801956176758, w_var: 0.2607033848762512, ess: 0.6968739628791809, free_en: -60.28486633300781, log_prob: -18.668020248413086\n",
      "step: 380, loss: -0.14922964572906494, w_mean: -60.18095397949219, w_var: 0.09048500657081604, ess: 0.9287183284759521, free_en: -60.221832275390625, log_prob: -20.140953063964844\n",
      "step: 390, loss: 1.4979170560836792, w_mean: -60.105010986328125, w_var: 0.16394883394241333, ess: 0.7806761860847473, free_en: -60.19682312011719, log_prob: -14.125009536743164\n",
      "step: 400, loss: -0.17503881454467773, w_mean: -60.084373474121094, w_var: 0.15599149465560913, ess: 0.7906081080436707, free_en: -60.17140197753906, log_prob: -17.624374389648438\n",
      "step: 410, loss: -0.4552462100982666, w_mean: -59.91841125488281, w_var: 0.15181177854537964, ess: 0.8854390382766724, free_en: -59.98645782470703, log_prob: -16.46841049194336\n",
      "step: 420, loss: -0.6736853122711182, w_mean: -59.944332122802734, w_var: 0.13340601325035095, ess: 0.876299262046814, free_en: -60.00836944580078, log_prob: -17.59433364868164\n"
     ]
    },
    {
     "name": "stdout",
     "output_type": "stream",
     "text": [
      "step: 430, loss: -3.6213579177856445, w_mean: -59.89044189453125, w_var: 0.37119024991989136, ess: 0.7624871134757996, free_en: -60.05284881591797, log_prob: -21.170442581176758\n",
      "step: 440, loss: -0.9382703304290771, w_mean: -60.059608459472656, w_var: 0.13254013657569885, ess: 0.8665593266487122, free_en: -60.12468719482422, log_prob: -23.209606170654297\n",
      "step: 450, loss: -0.4080176055431366, w_mean: -60.16215133666992, w_var: 0.32037103176116943, ess: 0.806170642375946, free_en: -60.295684814453125, log_prob: -18.80215072631836\n",
      "step: 460, loss: -0.34505850076675415, w_mean: -60.00861358642578, w_var: 0.08620480448007584, ess: 0.9237787127494812, free_en: -60.048561096191406, log_prob: -13.588615417480469\n",
      "step: 470, loss: -0.06698089838027954, w_mean: -60.09452438354492, w_var: 0.07119236141443253, ess: 0.9327303171157837, free_en: -60.128639221191406, log_prob: -16.094524383544922\n",
      "step: 480, loss: -2.127246379852295, w_mean: -59.79480743408203, w_var: 0.16711443662643433, ess: 0.8778918981552124, free_en: -59.866233825683594, log_prob: -14.034809112548828\n",
      "step: 490, loss: -1.2106215953826904, w_mean: -60.0689697265625, w_var: 0.2198389172554016, ess: 0.8787563443183899, free_en: -60.15522003173828, log_prob: -20.57897186279297\n",
      "step: 500, loss: -0.5320616960525513, w_mean: -60.00260925292969, w_var: 0.1580965369939804, ess: 0.84019935131073, free_en: -60.08190155029297, log_prob: -18.972610473632812\n",
      "Total time taken : 43.85252904891968\n"
     ]
    }
   ],
   "source": [
    "ESS=[]\n",
    "for i in range(0,nlevels+1):\n",
    "    if i !=0:\n",
    "        saved_state_dict = torch.load(res_paths['weights'])\n",
    "        model.load_state_dict(saved_state_dict, strict=True)\n",
    "    model = NeuralVANMultilevel_block_wise(\n",
    "        Lc,\n",
    "        van_hyp,\n",
    "        block_net_hyp,\n",
    "        i,\n",
    "        hb_last,\n",
    "        ising_energy,\n",
    "        local_ising_energy,\n",
    "        beta,\n",
    "        device\n",
    "        )\n",
    "    \n",
    "    history=model.train(500, bs, lr, print_freq, h_path, flex_kernel=True, on_file=True)\n",
    "\n",
    "    torch.save(model.state_dict(),res_paths['weights'])\n",
    "    ESS+=history['ESS']"
   ]
  },
  {
   "cell_type": "code",
   "execution_count": 18,
   "id": "f0da3345",
   "metadata": {},
   "outputs": [
    {
     "data": {
      "image/png": "[encoded data removed]",
      "text/plain": [
       "<Figure size 640x480 with 1 Axes>"
      ]
     },
     "metadata": {},
     "output_type": "display_data"
    }
   ],
   "source": [
    "plt.plot(np.asarray(ESS))\n",
    "plt.ylabel('ESS')\n",
    "plt.xlabel('Training steps')\n",
    "plt.show()"
   ]
  },
  {
   "cell_type": "markdown",
   "id": "5c51a028-9e89-4544-a528-2aa80f57b118",
   "metadata": {},
   "source": [
    "-------------\n",
    "-------------\n",
    "# Analysis: Reverse Metrics\n",
    "This sections includes metrics which require samples from the model, e.g., $s\\sim q_\\theta$ where $q_\\theta$ is the autoregressive neural network.\n",
    "The resulting script `res_paths['sim']` will store:\n",
    "\n",
    "`Loss, FreeEn, ESS_rev, InternalEn, Absmag`"
   ]
  },
  {
   "cell_type": "code",
   "execution_count": 21,
   "id": "ba045204-fb9d-4fcd-bfd3-bdadcd951ccd",
   "metadata": {},
   "outputs": [],
   "source": [
    "model.eval()\n",
    "w,E,m,t = model.sample_n_OBS(100,1000)"
   ]
  },
  {
   "cell_type": "code",
   "execution_count": 22,
   "id": "d12ab2f7-55e3-4532-b794-7aac9e3ff4d4",
   "metadata": {},
   "outputs": [
    {
     "name": "stdout",
     "output_type": "stream",
     "text": [
      "Results saved at: ../data/results/8_0.44_2_3_16_6_32_[5, 3]_measures.log\n"
     ]
    }
   ],
   "source": [
    "gamma_analysis(w, res_paths['sim']) \n",
    "# Stores data: Loss, FreeEn, ESS_rev\n",
    "_=gamma_analysis_OBS(E, w, res_paths['sim']) \n",
    "# Stores data: Internal Energy\n",
    "_=gamma_analysis_OBS(np.abs(m), w, res_paths['sim']) \n",
    "# Stores data: Absolute magnetization\n",
    "print(f\"Results saved at: {res_paths['sim']}\")"
   ]
  },
  {
   "cell_type": "markdown",
   "id": "0975e73c-b88e-43c4-bc8c-8f03619da4ba",
   "metadata": {},
   "source": [
    "-------------\n",
    "-------------\n",
    "# Analysis: Forward metrics\n",
    "> Note to user:\n",
    "> - This only works for small lattices. As this is just a demo, configurations for larger lattices (or different $\\beta$) are not provided and users have to generate reference configurations by themselves. Once configurations are available the pipeline below can be used.\n",
    "> - Ensure to unzip the configurations before running the code below.\n",
    "\n",
    "\n",
    "This sections includes metrics which require samples from the true distribution, e.g., $s\\sim p$ where $p$ is the target Boltzmann distribution.\n",
    "Such samples can be obtained with standard methods such as the Cluster method. For the sake of this demo, configs sampled with cluster method are stored in `data/config/Ising_data_nx16_beta0.4400000000_data1000000.dat`.\n",
    "\n",
    "The script `res_paths['sim_md']` will store:\n",
    "\n",
    "`Loss_rev, FreeEn_rev, ESS_rev, Loss_fwd, FreeEn_fwd, ESS_fwd, mode_dropping_est,  InternalEn, Absmag`\n",
    "\n",
    "The script `res_paths['cluster']` will store analysis performed on samples from Cluster method, i.e., $s\\sim p$:\n",
    "\n",
    "`Loss, FreeEn, ESS_rev, InternalEn, Absmag`\n"
   ]
  },
  {
   "cell_type": "code",
   "execution_count": 23,
   "id": "005731df-a09d-4a20-b0f5-58b27a7aa453",
   "metadata": {},
   "outputs": [],
   "source": [
    "ndat = 1000000\n",
    "path_ising = main_path + f'config/Ising_data_nx{model.Lf}_beta0.4400000000_data{ndat}.dat'"
   ]
  },
  {
   "cell_type": "code",
   "execution_count": 24,
   "id": "1190fcb9",
   "metadata": {},
   "outputs": [
    {
     "name": "stdout",
     "output_type": "stream",
     "text": [
      "✅ File '../data/config/Ising_data_nx8_beta0.4400000000_data1000000.dat' found. Continuing...\n"
     ]
    }
   ],
   "source": [
    "file_exists_or_unzip(path_ising,main_path + f'config')"
   ]
  },
  {
   "cell_type": "code",
   "execution_count": 25,
   "id": "e0e67ca9-7603-422e-ad35-9c313102d8a4",
   "metadata": {
    "pycharm": {
     "is_executing": true
    }
   },
   "outputs": [],
   "source": [
    "# Loads data for 16x16\n",
    "# N.B. This might take some time.\n",
    "data = np.genfromtxt(path_ising).reshape(-1, Lf, Lf)"
   ]
  },
  {
   "cell_type": "code",
   "execution_count": 26,
   "id": "bd610b06-1d9b-470c-9d5e-f4af3ad676c4",
   "metadata": {
    "pycharm": {
     "is_executing": true
    }
   },
   "outputs": [
    {
     "name": "stdout",
     "output_type": "stream",
     "text": [
      "Results saved at: ../data/results/8_0.44_2_3_16_6_32_[5, 3]_measuresCluster.log\n"
     ]
    }
   ],
   "source": [
    "cluster_analysis(data, ising_energy, beta, res_paths['cluster']) # U, tau |m|, tau |m|\n",
    "print(f\"Results saved at: {res_paths['cluster']}\")"
   ]
  },
  {
   "cell_type": "code",
   "execution_count": 27,
   "id": "eb480693-5a2a-4188-8c17-7a6700b41fc6",
   "metadata": {
    "pycharm": {
     "is_executing": true
    }
   },
   "outputs": [],
   "source": [
    "wf = model.sample_from_MCMC(data, 1000)"
   ]
  },
  {
   "cell_type": "code",
   "execution_count": 28,
   "id": "e62b5abf-1f37-4ddd-bc78-320de50c518e",
   "metadata": {
    "pycharm": {
     "is_executing": true
    }
   },
   "outputs": [
    {
     "name": "stdout",
     "output_type": "stream",
     "text": [
      "Results saved at: ../data/results/8_0.44_2_3_16_6_32_[5, 3]_measures_modedrop.log\n"
     ]
    }
   ],
   "source": [
    "gamma_analysis_modedrop(w, wf, res_paths['sim_md']) \n",
    "# Stores data: Loss, betaF, ESS, Floss, FbetaF, FESS, modedrop, U, absmag\n",
    "print(f\"Results saved at: {res_paths['sim_md']}\")"
   ]
  },
  {
   "cell_type": "markdown",
   "id": "031f75ad-397a-4db0-b08c-ff0108a0445d",
   "metadata": {},
   "source": [
    "-------------\n",
    "-------------\n",
    "# Independent Metropolis-Hastings\n",
    "\n",
    "The cells below run Neural MCMC using a Metropolis Hastings accept-reject steps to unbias the samples drawn from the model as proposed in [Nicoli et al. Phys. Rev. E (2020)](https://link.aps.org/accepted/10.1103/PhysRevE.101.023304). A cluster analysis is performed on the accepted samples and results are saved in `res_paths['mh']`."
   ]
  },
  {
   "cell_type": "code",
   "execution_count": 29,
   "id": "132d59a0-c66e-47dc-9faf-bb226aee5130",
   "metadata": {
    "pycharm": {
     "is_executing": true
    }
   },
   "outputs": [],
   "source": [
    "model.eval()"
   ]
  },
  {
   "cell_type": "code",
   "execution_count": 30,
   "id": "2fe86663-898e-485b-9079-acb71707f73c",
   "metadata": {
    "pycharm": {
     "is_executing": true
    }
   },
   "outputs": [],
   "source": [
    "ensemble=make_mcmc_ensemble(model,100, 1000,model.device)"
   ]
  },
  {
   "cell_type": "code",
   "execution_count": 31,
   "id": "0c75035f-d681-4f52-aabd-0ad27b6e277d",
   "metadata": {
    "pycharm": {
     "is_executing": true
    }
   },
   "outputs": [
    {
     "name": "stdout",
     "output_type": "stream",
     "text": [
      "Acceptance rate: 0.779\n"
     ]
    }
   ],
   "source": [
    "print(f\"Acceptance rate: {np.asarray(ensemble['accepted']).mean().item()}\")"
   ]
  },
  {
   "cell_type": "code",
   "execution_count": 32,
   "id": "73983d3d-13ee-42fc-9530-a050567953d3",
   "metadata": {
    "pycharm": {
     "is_executing": true
    }
   },
   "outputs": [
    {
     "name": "stdout",
     "output_type": "stream",
     "text": [
      "Results saved at: ../data/results/8_0.44_2_3_16_6_32_[5, 3]_measuresIMH.log\n"
     ]
    }
   ],
   "source": [
    "cluster_analysis(np.asarray(ensemble['x']).reshape((-1, Lf, Lf) ), model.energy, model.beta, res_paths['mh']) \n",
    "# Stores data: U, tau |m|, tau |m|\n",
    "print(f\"Results saved at: {res_paths['mh']}\")    "
   ]
  }
 ],
 "metadata": {
  "kernelspec": {
   "display_name": "multilevelTest",
   "language": "python",
   "name": "multileveltest"
  },
  "language_info": {
   "codemirror_mode": {
    "name": "ipython",
    "version": 3
   },
   "file_extension": ".py",
   "mimetype": "text/x-python",
   "name": "python",
   "nbconvert_exporter": "python",
   "pygments_lexer": "ipython3",
   "version": "3.12.3"
  }
 },
 "nbformat": 4,
 "nbformat_minor": 5
}
